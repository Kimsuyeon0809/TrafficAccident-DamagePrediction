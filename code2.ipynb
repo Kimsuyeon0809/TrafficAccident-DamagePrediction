{
  "nbformat": 4,
  "nbformat_minor": 0,
  "metadata": {
    "colab": {
      "provenance": [],
      "gpuType": "T4"
    },
    "kernelspec": {
      "name": "ir",
      "display_name": "R"
    },
    "language_info": {
      "name": "R"
    },
    "accelerator": "GPU"
  },
  "cells": [
    {
      "cell_type": "markdown",
      "source": [
        "google colab GPU 사용량 제한의 문제로 실행하지 못해 geom_boxplot()출력과 카이제곱 검정 부분을 따로 해당 파일에 작성했습니다.\n",
        "\n",
        "---\n",
        "\n"
      ],
      "metadata": {
        "id": "M1V7HUUw8v69"
      }
    },
    {
      "cell_type": "markdown",
      "source": [
        "1. 데이터 취득과 정제"
      ],
      "metadata": {
        "id": "TXbsouxDDI-E"
      }
    },
    {
      "cell_type": "code",
      "source": [
        "system(\" sudo apt-get install fonts-nanum-coding\") #한글 깨지는 문제 해결\n",
        "install.packages(\"extrafont\")\n",
        "library(extrafont)\n",
        "options(warn = -1)\n",
        "font_import(pattern = \"Nanum\") # 또는 font_import() 전체.. 시간 오래 걸림\n",
        "# Continue? [y/n] 질문이 나오면 y\n",
        "fonts() # 폰트 확인 되면 완료, 이후 메뉴 - 런타임 - 런타임 재시작"
      ],
      "metadata": {
        "id": "s1ba9YF4RyDS",
        "colab": {
          "base_uri": "https://localhost:8080/",
          "height": 1000
        },
        "outputId": "67dd589b-1bc8-4a42-9c01-623fb8ac7f3b"
      },
      "execution_count": null,
      "outputs": [
        {
          "output_type": "stream",
          "name": "stderr",
          "text": [
            "Installing package into ‘/usr/local/lib/R/site-library’\n",
            "(as ‘lib’ is unspecified)\n",
            "\n",
            "also installing the dependencies ‘extrafontdb’, ‘Rttf2pt1’\n",
            "\n",
            "\n",
            "Registering fonts with R\n",
            "\n"
          ]
        },
        {
          "name": "stdout",
          "output_type": "stream",
          "text": [
            "Importing fonts may take a few minutes, depending on the number of fonts and the speed of the system.\n",
            "Continue? [y/n] y\n"
          ]
        },
        {
          "output_type": "stream",
          "name": "stderr",
          "text": [
            "Scanning ttf files in /usr/share/fonts/, /usr/local/share/fonts/ ...\n",
            "\n",
            "Extracting .afm files from .ttf files...\n",
            "\n",
            "/usr/share/fonts/truetype/nanum/NanumBarunGothic.ttf\n",
            " => /usr/local/lib/R/site-library/extrafontdb/metrics/NanumBarunGothic\n",
            "\n",
            "/usr/share/fonts/truetype/nanum/NanumBarunGothicBold.ttf\n",
            " => /usr/local/lib/R/site-library/extrafontdb/metrics/NanumBarunGothicBold\n",
            "\n",
            "/usr/share/fonts/truetype/nanum/NanumGothic.ttf\n",
            " => /usr/local/lib/R/site-library/extrafontdb/metrics/NanumGothic\n",
            "\n",
            "/usr/share/fonts/truetype/nanum/NanumGothicBold.ttf\n",
            " => /usr/local/lib/R/site-library/extrafontdb/metrics/NanumGothicBold\n",
            "\n",
            "/usr/share/fonts/truetype/nanum/NanumGothicCoding.ttf\n",
            " => /usr/local/lib/R/site-library/extrafontdb/metrics/NanumGothicCoding\n",
            "\n",
            "/usr/share/fonts/truetype/nanum/NanumGothicCodingBold.ttf\n",
            " => /usr/local/lib/R/site-library/extrafontdb/metrics/NanumGothicCodingBold\n",
            "\n",
            "/usr/share/fonts/truetype/nanum/NanumMyeongjo.ttf\n",
            " => /usr/local/lib/R/site-library/extrafontdb/metrics/NanumMyeongjo\n",
            "\n",
            "/usr/share/fonts/truetype/nanum/NanumMyeongjoBold.ttf\n",
            " => /usr/local/lib/R/site-library/extrafontdb/metrics/NanumMyeongjoBold\n",
            "\n",
            "/usr/share/fonts/truetype/nanum/NanumSquareB.ttf\n",
            " => /usr/local/lib/R/site-library/extrafontdb/metrics/NanumSquareB\n",
            "\n",
            "/usr/share/fonts/truetype/nanum/NanumSquareR.ttf\n",
            " => /usr/local/lib/R/site-library/extrafontdb/metrics/NanumSquareR\n",
            "\n",
            "/usr/share/fonts/truetype/nanum/NanumSquareRoundB.ttf\n",
            " => /usr/local/lib/R/site-library/extrafontdb/metrics/NanumSquareRoundB\n",
            "\n",
            "/usr/share/fonts/truetype/nanum/NanumSquareRoundR.ttf\n",
            " => /usr/local/lib/R/site-library/extrafontdb/metrics/NanumSquareRoundR\n",
            "\n",
            "Found FontName for 12 fonts.\n",
            "\n",
            "Scanning afm files in /usr/local/lib/R/site-library/extrafontdb/metrics\n",
            "\n",
            "Writing font table in /usr/local/lib/R/site-library/extrafontdb/fontmap/fonttable.csv\n",
            "\n",
            "Writing Fontmap to /usr/local/lib/R/site-library/extrafontdb/fontmap/Fontmap...\n",
            "\n"
          ]
        },
        {
          "output_type": "display_data",
          "data": {
            "text/html": [
              "<style>\n",
              ".list-inline {list-style: none; margin:0; padding: 0}\n",
              ".list-inline>li {display: inline-block}\n",
              ".list-inline>li:not(:last-child)::after {content: \"\\00b7\"; padding: 0 .5ex}\n",
              "</style>\n",
              "<ol class=list-inline><li>'NanumBarunGothic'</li><li>'NanumGothic'</li><li>'NanumGothicCoding'</li><li>'NanumMyeongjo'</li><li>'NanumSquare Bold'</li><li>'NanumSquare'</li><li>'NanumSquareRound Bold'</li><li>'NanumSquareRound Regular'</li></ol>\n"
            ],
            "text/markdown": "1. 'NanumBarunGothic'\n2. 'NanumGothic'\n3. 'NanumGothicCoding'\n4. 'NanumMyeongjo'\n5. 'NanumSquare Bold'\n6. 'NanumSquare'\n7. 'NanumSquareRound Bold'\n8. 'NanumSquareRound Regular'\n\n\n",
            "text/latex": "\\begin{enumerate*}\n\\item 'NanumBarunGothic'\n\\item 'NanumGothic'\n\\item 'NanumGothicCoding'\n\\item 'NanumMyeongjo'\n\\item 'NanumSquare Bold'\n\\item 'NanumSquare'\n\\item 'NanumSquareRound Bold'\n\\item 'NanumSquareRound Regular'\n\\end{enumerate*}\n",
            "text/plain": [
              "[1] \"NanumBarunGothic\"         \"NanumGothic\"             \n",
              "[3] \"NanumGothicCoding\"        \"NanumMyeongjo\"           \n",
              "[5] \"NanumSquare Bold\"         \"NanumSquare\"             \n",
              "[7] \"NanumSquareRound Bold\"    \"NanumSquareRound Regular\""
            ]
          },
          "metadata": {}
        }
      ]
    },
    {
      "cell_type": "code",
      "source": [
        "install.packages(c(\"tidyverse\", \"caret\", \"e1071\", \"Hmisc\",\"dplyr\"))\n",
        "library(tidyverse)\n",
        "library(data.table)\n",
        "library(ggplot2)\n",
        "library(caret)\n",
        "library(dplyr)\n",
        "# 출력 그래프 크기 변경\n",
        "library(repr)\n"
      ],
      "metadata": {
        "colab": {
          "base_uri": "https://localhost:8080/"
        },
        "id": "REjIPuH0E0mv",
        "outputId": "2e896ddf-643f-4f64-b345-44654bce4bb1"
      },
      "execution_count": 1,
      "outputs": [
        {
          "output_type": "stream",
          "name": "stderr",
          "text": [
            "Installing packages into ‘/usr/local/lib/R/site-library’\n",
            "(as ‘lib’ is unspecified)\n",
            "\n",
            "also installing the dependencies ‘listenv’, ‘parallelly’, ‘future’, ‘globals’, ‘shape’, ‘future.apply’, ‘numDeriv’, ‘progressr’, ‘SQUAREM’, ‘diagram’, ‘lava’, ‘prodlim’, ‘iterators’, ‘Rcpp’, ‘clock’, ‘gower’, ‘hardhat’, ‘ipred’, ‘timeDate’, ‘checkmate’, ‘htmlwidgets’, ‘foreach’, ‘ModelMetrics’, ‘plyr’, ‘pROC’, ‘recipes’, ‘reshape2’, ‘proxy’, ‘gridExtra’, ‘htmlTable’, ‘viridis’, ‘Formula’\n",
            "\n",
            "\n",
            "── \u001b[1mAttaching core tidyverse packages\u001b[22m ──────────────────────── tidyverse 2.0.0 ──\n",
            "\u001b[32m✔\u001b[39m \u001b[34mdplyr    \u001b[39m 1.1.4     \u001b[32m✔\u001b[39m \u001b[34mreadr    \u001b[39m 2.1.4\n",
            "\u001b[32m✔\u001b[39m \u001b[34mforcats  \u001b[39m 1.0.0     \u001b[32m✔\u001b[39m \u001b[34mstringr  \u001b[39m 1.5.1\n",
            "\u001b[32m✔\u001b[39m \u001b[34mggplot2  \u001b[39m 3.4.4     \u001b[32m✔\u001b[39m \u001b[34mtibble   \u001b[39m 3.2.1\n",
            "\u001b[32m✔\u001b[39m \u001b[34mlubridate\u001b[39m 1.9.3     \u001b[32m✔\u001b[39m \u001b[34mtidyr    \u001b[39m 1.3.0\n",
            "\u001b[32m✔\u001b[39m \u001b[34mpurrr    \u001b[39m 1.0.2     \n",
            "── \u001b[1mConflicts\u001b[22m ────────────────────────────────────────── tidyverse_conflicts() ──\n",
            "\u001b[31m✖\u001b[39m \u001b[34mdplyr\u001b[39m::\u001b[32mfilter()\u001b[39m masks \u001b[34mstats\u001b[39m::filter()\n",
            "\u001b[31m✖\u001b[39m \u001b[34mdplyr\u001b[39m::\u001b[32mlag()\u001b[39m    masks \u001b[34mstats\u001b[39m::lag()\n",
            "\u001b[36mℹ\u001b[39m Use the conflicted package (\u001b[3m\u001b[34m<http://conflicted.r-lib.org/>\u001b[39m\u001b[23m) to force all conflicts to become errors\n",
            "\n",
            "Attaching package: ‘data.table’\n",
            "\n",
            "\n",
            "The following objects are masked from ‘package:lubridate’:\n",
            "\n",
            "    hour, isoweek, mday, minute, month, quarter, second, wday, week,\n",
            "    yday, year\n",
            "\n",
            "\n",
            "The following objects are masked from ‘package:dplyr’:\n",
            "\n",
            "    between, first, last\n",
            "\n",
            "\n",
            "The following object is masked from ‘package:purrr’:\n",
            "\n",
            "    transpose\n",
            "\n",
            "\n",
            "Loading required package: lattice\n",
            "\n",
            "\n",
            "Attaching package: ‘caret’\n",
            "\n",
            "\n",
            "The following object is masked from ‘package:purrr’:\n",
            "\n",
            "    lift\n",
            "\n",
            "\n"
          ]
        }
      ]
    },
    {
      "cell_type": "code",
      "source": [
        "options(repr.plot.width=17, repr.plot.height=7)"
      ],
      "metadata": {
        "id": "mke5-uSWwpgS"
      },
      "execution_count": 3,
      "outputs": []
    },
    {
      "cell_type": "code",
      "source": [
        "install.packages(\"data.table\")\n",
        "library(\"data.table\")"
      ],
      "metadata": {
        "colab": {
          "base_uri": "https://localhost:8080/"
        },
        "id": "1IxUqfzGCidx",
        "outputId": "8db3fb6c-486e-423a-d03d-cf1dcb852d0b"
      },
      "execution_count": 4,
      "outputs": [
        {
          "output_type": "stream",
          "name": "stderr",
          "text": [
            "Installing package into ‘/usr/local/lib/R/site-library’\n",
            "(as ‘lib’ is unspecified)\n",
            "\n"
          ]
        }
      ]
    },
    {
      "cell_type": "code",
      "source": [
        "install.packages(\"dplyr\")\n",
        "library(dplyr)"
      ],
      "metadata": {
        "colab": {
          "base_uri": "https://localhost:8080/"
        },
        "id": "SDlNLHy2CVkj",
        "outputId": "f4bab618-cce7-4bf4-84d5-d2ce8ec9b2fd"
      },
      "execution_count": 5,
      "outputs": [
        {
          "output_type": "stream",
          "name": "stderr",
          "text": [
            "Installing package into ‘/usr/local/lib/R/site-library’\n",
            "(as ‘lib’ is unspecified)\n",
            "\n"
          ]
        }
      ]
    },
    {
      "cell_type": "code",
      "source": [
        "#https://drive.google.com/file/d/1WpUs9z0SID5hwA6Xx_6VWRx0l8RIcKCH/view?usp=sharing #train data\n",
        "#https://drive.google.com/file/d/10PMjZ0Y-KoRdFlZ6B5VhJjpf20dyAXAn/view?usp=drive_link #test data\n",
        "system(\"gdown --id 1WpUs9z0SID5hwA6Xx_6VWRx0l8RIcKCH\")\n",
        "system(\"ls\", TRUE) #파일 확인"
      ],
      "metadata": {
        "id": "4v51L-WmFT9g",
        "colab": {
          "base_uri": "https://localhost:8080/",
          "height": 34
        },
        "outputId": "84dcf275-17d6-49c7-8938-a4b99101735f"
      },
      "execution_count": 6,
      "outputs": [
        {
          "output_type": "display_data",
          "data": {
            "text/html": [
              "<style>\n",
              ".list-inline {list-style: none; margin:0; padding: 0}\n",
              ".list-inline>li {display: inline-block}\n",
              ".list-inline>li:not(:last-child)::after {content: \"\\00b7\"; padding: 0 .5ex}\n",
              "</style>\n",
              "<ol class=list-inline><li>'sample_data'</li><li>'train.csv'</li></ol>\n"
            ],
            "text/markdown": "1. 'sample_data'\n2. 'train.csv'\n\n\n",
            "text/latex": "\\begin{enumerate*}\n\\item 'sample\\_data'\n\\item 'train.csv'\n\\end{enumerate*}\n",
            "text/plain": [
              "[1] \"sample_data\" \"train.csv\"  "
            ]
          },
          "metadata": {}
        }
      ]
    },
    {
      "cell_type": "code",
      "source": [
        "# 파일 읽기\n",
        "train <- fread(\"/content/train.csv\", header = T, encoding = \"UTF-8\") %>% as_tibble()\n",
        "train %>% show()"
      ],
      "metadata": {
        "id": "xZ_ndc-MFYk9",
        "colab": {
          "base_uri": "https://localhost:8080/"
        },
        "outputId": "0ee4e8b0-b746-4b62-f45f-0bae227a422e"
      },
      "execution_count": 7,
      "outputs": [
        {
          "output_type": "stream",
          "name": "stdout",
          "text": [
            "\u001b[90m# A tibble: 39,609 × 23\u001b[39m\n",
            "   ID             사고일시      요일  기상상태 시군구 도로형태 노면상태 사고유형\n",
            "   \u001b[3m\u001b[90m<chr>\u001b[39m\u001b[23m          \u001b[3m\u001b[90m<chr>\u001b[39m\u001b[23m         \u001b[3m\u001b[90m<chr>\u001b[39m\u001b[23m \u001b[3m\u001b[90m<chr>\u001b[39m\u001b[23m    \u001b[3m\u001b[90m<chr>\u001b[39m\u001b[23m  \u001b[3m\u001b[90m<chr>\u001b[39m\u001b[23m    \u001b[3m\u001b[90m<chr>\u001b[39m\u001b[23m    \u001b[3m\u001b[90m<chr>\u001b[39m\u001b[23m   \n",
            "\u001b[90m 1\u001b[39m ACCIDENT_00000 2019-01-01 00 화요… 맑음     대구…  단일로 … 건조     차대사람\n",
            "\u001b[90m 2\u001b[39m ACCIDENT_00001 2019-01-01 00 화요… 흐림     대구…  단일로 … 건조     차대사람\n",
            "\u001b[90m 3\u001b[39m ACCIDENT_00002 2019-01-01 01 화요… 맑음     대구…  단일로 … 건조     차대사람\n",
            "\u001b[90m 4\u001b[39m ACCIDENT_00003 2019-01-01 02 화요… 맑음     대구…  단일로 … 건조     차대차  \n",
            "\u001b[90m 5\u001b[39m ACCIDENT_00004 2019-01-01 04 화요… 맑음     대구…  단일로 … 건조     차대차  \n",
            "\u001b[90m 6\u001b[39m ACCIDENT_00005 2019-01-01 04 화요… 맑음     대구…  단일로 … 건조     차대차  \n",
            "\u001b[90m 7\u001b[39m ACCIDENT_00006 2019-01-01 05 화요… 맑음     대구…  교차로 … 건조     차대차  \n",
            "\u001b[90m 8\u001b[39m ACCIDENT_00007 2019-01-01 06 화요… 흐림     대구…  단일로 … 건조     차대차  \n",
            "\u001b[90m 9\u001b[39m ACCIDENT_00008 2019-01-01 06 화요… 맑음     대구…  기타 - … 건조     차대차  \n",
            "\u001b[90m10\u001b[39m ACCIDENT_00009 2019-01-01 10 화요… 맑음     대구…  단일로 … 건조     차대차  \n",
            "\u001b[90m# ℹ 39,599 more rows\u001b[39m\n",
            "\u001b[90m# ℹ 15 more variables: `사고유형 - 세부분류` <chr>, 법규위반 <chr>,\u001b[39m\n",
            "\u001b[90m#   `가해운전자 차종` <chr>, `가해운전자 성별` <chr>, `가해운전자 연령` <chr>,\u001b[39m\n",
            "\u001b[90m#   `가해운전자 상해정도` <chr>, `피해운전자 차종` <chr>,\u001b[39m\n",
            "\u001b[90m#   `피해운전자 성별` <chr>, `피해운전자 연령` <chr>,\u001b[39m\n",
            "\u001b[90m#   `피해운전자 상해정도` <chr>, 사망자수 <int>, 중상자수 <int>,\u001b[39m\n",
            "\u001b[90m#   경상자수 <int>, 부상자수 <int>, ECLO <int>\u001b[39m\n"
          ]
        }
      ]
    },
    {
      "cell_type": "code",
      "source": [
        "# 컬럼 이름 공백 제거\n",
        "\n",
        "colnames(train)[9]<-'사고유형세부분류'\n",
        "\n",
        "colnames(train)[11]<-'가해운전자차종'\n",
        "colnames(train)[12]<-'가해운전자성별'\n",
        "colnames(train)[13]<-'가해운전자연령'\n",
        "colnames(train)[14]<-'가해운전자상해정도'\n",
        "\n",
        "colnames(train)[15]<-'피해운전자차종'\n",
        "colnames(train)[16]<-'피해운전자성별'\n",
        "colnames(train)[17]<-'피해운전자연령'\n",
        "\n",
        "colnames(train)[18]<-'피해운전자상해정도'\n",
        "\n",
        "head(train,2)"
      ],
      "metadata": {
        "id": "WAzUASyJOEGx",
        "colab": {
          "base_uri": "https://localhost:8080/",
          "height": 354
        },
        "outputId": "7bd28f42-03c0-4689-99f4-03f7a014c2f3"
      },
      "execution_count": 8,
      "outputs": [
        {
          "output_type": "display_data",
          "data": {
            "text/html": [
              "<table class=\"dataframe\">\n",
              "<caption>A tibble: 2 × 23</caption>\n",
              "<thead>\n",
              "\t<tr><th scope=col>ID</th><th scope=col>사고일시</th><th scope=col>요일</th><th scope=col>기상상태</th><th scope=col>시군구</th><th scope=col>도로형태</th><th scope=col>노면상태</th><th scope=col>사고유형</th><th scope=col>사고유형세부분류</th><th scope=col>법규위반</th><th scope=col>⋯</th><th scope=col>가해운전자상해정도</th><th scope=col>피해운전자차종</th><th scope=col>피해운전자성별</th><th scope=col>피해운전자연령</th><th scope=col>피해운전자상해정도</th><th scope=col>사망자수</th><th scope=col>중상자수</th><th scope=col>경상자수</th><th scope=col>부상자수</th><th scope=col>ECLO</th></tr>\n",
              "\t<tr><th scope=col>&lt;chr&gt;</th><th scope=col>&lt;chr&gt;</th><th scope=col>&lt;chr&gt;</th><th scope=col>&lt;chr&gt;</th><th scope=col>&lt;chr&gt;</th><th scope=col>&lt;chr&gt;</th><th scope=col>&lt;chr&gt;</th><th scope=col>&lt;chr&gt;</th><th scope=col>&lt;chr&gt;</th><th scope=col>&lt;chr&gt;</th><th scope=col>⋯</th><th scope=col>&lt;chr&gt;</th><th scope=col>&lt;chr&gt;</th><th scope=col>&lt;chr&gt;</th><th scope=col>&lt;chr&gt;</th><th scope=col>&lt;chr&gt;</th><th scope=col>&lt;int&gt;</th><th scope=col>&lt;int&gt;</th><th scope=col>&lt;int&gt;</th><th scope=col>&lt;int&gt;</th><th scope=col>&lt;int&gt;</th></tr>\n",
              "</thead>\n",
              "<tbody>\n",
              "\t<tr><td>ACCIDENT_00000</td><td>2019-01-01 00</td><td>화요일</td><td>맑음</td><td>대구광역시 중구 대신동  </td><td>단일로 - 기타</td><td>건조</td><td>차대사람</td><td>길가장자리구역통행중</td><td>안전운전불이행</td><td>⋯</td><td>상해없음</td><td>보행자</td><td>여</td><td>70세</td><td>중상</td><td>0</td><td>1</td><td>0</td><td>0</td><td>5</td></tr>\n",
              "\t<tr><td>ACCIDENT_00001</td><td>2019-01-01 00</td><td>화요일</td><td>흐림</td><td>대구광역시 달서구 감삼동</td><td>단일로 - 기타</td><td>건조</td><td>차대사람</td><td>보도통행중          </td><td>기타          </td><td>⋯</td><td>상해없음</td><td>보행자</td><td>남</td><td>61세</td><td>경상</td><td>0</td><td>0</td><td>1</td><td>0</td><td>3</td></tr>\n",
              "</tbody>\n",
              "</table>\n"
            ],
            "text/markdown": "\nA tibble: 2 × 23\n\n| ID &lt;chr&gt; | 사고일시 &lt;chr&gt; | 요일 &lt;chr&gt; | 기상상태 &lt;chr&gt; | 시군구 &lt;chr&gt; | 도로형태 &lt;chr&gt; | 노면상태 &lt;chr&gt; | 사고유형 &lt;chr&gt; | 사고유형세부분류 &lt;chr&gt; | 법규위반 &lt;chr&gt; | ⋯ ⋯ | 가해운전자상해정도 &lt;chr&gt; | 피해운전자차종 &lt;chr&gt; | 피해운전자성별 &lt;chr&gt; | 피해운전자연령 &lt;chr&gt; | 피해운전자상해정도 &lt;chr&gt; | 사망자수 &lt;int&gt; | 중상자수 &lt;int&gt; | 경상자수 &lt;int&gt; | 부상자수 &lt;int&gt; | ECLO &lt;int&gt; |\n|---|---|---|---|---|---|---|---|---|---|---|---|---|---|---|---|---|---|---|---|---|\n| ACCIDENT_00000 | 2019-01-01 00 | 화요일 | 맑음 | 대구광역시 중구 대신동   | 단일로 - 기타 | 건조 | 차대사람 | 길가장자리구역통행중 | 안전운전불이행 | ⋯ | 상해없음 | 보행자 | 여 | 70세 | 중상 | 0 | 1 | 0 | 0 | 5 |\n| ACCIDENT_00001 | 2019-01-01 00 | 화요일 | 흐림 | 대구광역시 달서구 감삼동 | 단일로 - 기타 | 건조 | 차대사람 | 보도통행중           | 기타           | ⋯ | 상해없음 | 보행자 | 남 | 61세 | 경상 | 0 | 0 | 1 | 0 | 3 |\n\n",
            "text/latex": "A tibble: 2 × 23\n\\begin{tabular}{lllllllllllllllllllll}\n ID & 사고일시 & 요일 & 기상상태 & 시군구 & 도로형태 & 노면상태 & 사고유형 & 사고유형세부분류 & 법규위반 & ⋯ & 가해운전자상해정도 & 피해운전자차종 & 피해운전자성별 & 피해운전자연령 & 피해운전자상해정도 & 사망자수 & 중상자수 & 경상자수 & 부상자수 & ECLO\\\\\n <chr> & <chr> & <chr> & <chr> & <chr> & <chr> & <chr> & <chr> & <chr> & <chr> & ⋯ & <chr> & <chr> & <chr> & <chr> & <chr> & <int> & <int> & <int> & <int> & <int>\\\\\n\\hline\n\t ACCIDENT\\_00000 & 2019-01-01 00 & 화요일 & 맑음 & 대구광역시 중구 대신동   & 단일로 - 기타 & 건조 & 차대사람 & 길가장자리구역통행중 & 안전운전불이행 & ⋯ & 상해없음 & 보행자 & 여 & 70세 & 중상 & 0 & 1 & 0 & 0 & 5\\\\\n\t ACCIDENT\\_00001 & 2019-01-01 00 & 화요일 & 흐림 & 대구광역시 달서구 감삼동 & 단일로 - 기타 & 건조 & 차대사람 & 보도통행중           & 기타           & ⋯ & 상해없음 & 보행자 & 남 & 61세 & 경상 & 0 & 0 & 1 & 0 & 3\\\\\n\\end{tabular}\n",
            "text/plain": [
              "  ID             사고일시      요일   기상상태 시군구                  \n",
              "1 ACCIDENT_00000 2019-01-01 00 화요일 맑음     대구광역시 중구 대신동  \n",
              "2 ACCIDENT_00001 2019-01-01 00 화요일 흐림     대구광역시 달서구 감삼동\n",
              "  도로형태      노면상태 사고유형 사고유형세부분류     법규위반       ⋯\n",
              "1 단일로 - 기타 건조     차대사람 길가장자리구역통행중 안전운전불이행 ⋯\n",
              "2 단일로 - 기타 건조     차대사람 보도통행중           기타           ⋯\n",
              "  가해운전자상해정도 피해운전자차종 피해운전자성별 피해운전자연령\n",
              "1 상해없음           보행자         여             70세          \n",
              "2 상해없음           보행자         남             61세          \n",
              "  피해운전자상해정도 사망자수 중상자수 경상자수 부상자수 ECLO\n",
              "1 중상               0        1        0        0        5   \n",
              "2 경상               0        0        1        0        3   "
            ]
          },
          "metadata": {}
        }
      ]
    },
    {
      "cell_type": "code",
      "source": [
        "# 범주형 컬럼 factor 타입으로 변경\n",
        "\n",
        "train$요일<- as.factor(train$요일)\n",
        "train$기상상태<- as.factor(train$기상상태)\n",
        "train$도로형태<- as.factor(train$도로형태)\n",
        "train$노면상태<- as.factor(train$노면상태)\n",
        "train$사고유형<- as.factor(train$사고유형)\n",
        "train$사고유형세부분류<- as.factor(train$사고유형세부분류)"
      ],
      "metadata": {
        "id": "LacpEPGfQoPw"
      },
      "execution_count": 9,
      "outputs": []
    },
    {
      "cell_type": "code",
      "source": [
        "train$법규위반<- as.factor(train$법규위반)\n",
        "train$가해운전자차종<- as.factor(train$가해운전자차종)\n",
        "train$가해운전자성별<- as.factor(train$가해운전자성별)\n",
        "train$가해운전자상해정도<- as.factor(train$가해운전자상해정도)"
      ],
      "metadata": {
        "id": "AkXiSF26QqOW"
      },
      "execution_count": 10,
      "outputs": []
    },
    {
      "cell_type": "code",
      "source": [
        "# factor에 조건을 주려면 as.factor 아닌 factor 사용 / 두 가지 이상은 c로 묶기\n",
        "#patients$gender <- factor(patients$gender, level=c(\"M\",\"F\"), labels=c(\"남자\",\"여자\")) #4번\n",
        "train$피해운전자차종<- as.factor(train$피해운전자차종)\n",
        "train$피해운전자성별<- as.factor(train$피해운전자성별)\n",
        "train$피해운전자상해정도<- as.factor(train$피해운전자상해정도)\n",
        "\n",
        "head(train,2)"
      ],
      "metadata": {
        "id": "TWEoP88uDQhb",
        "colab": {
          "base_uri": "https://localhost:8080/",
          "height": 354
        },
        "outputId": "6c246456-ab98-43c0-bac4-c49d04dffa45"
      },
      "execution_count": 11,
      "outputs": [
        {
          "output_type": "display_data",
          "data": {
            "text/html": [
              "<table class=\"dataframe\">\n",
              "<caption>A tibble: 2 × 23</caption>\n",
              "<thead>\n",
              "\t<tr><th scope=col>ID</th><th scope=col>사고일시</th><th scope=col>요일</th><th scope=col>기상상태</th><th scope=col>시군구</th><th scope=col>도로형태</th><th scope=col>노면상태</th><th scope=col>사고유형</th><th scope=col>사고유형세부분류</th><th scope=col>법규위반</th><th scope=col>⋯</th><th scope=col>가해운전자상해정도</th><th scope=col>피해운전자차종</th><th scope=col>피해운전자성별</th><th scope=col>피해운전자연령</th><th scope=col>피해운전자상해정도</th><th scope=col>사망자수</th><th scope=col>중상자수</th><th scope=col>경상자수</th><th scope=col>부상자수</th><th scope=col>ECLO</th></tr>\n",
              "\t<tr><th scope=col>&lt;chr&gt;</th><th scope=col>&lt;chr&gt;</th><th scope=col>&lt;fct&gt;</th><th scope=col>&lt;fct&gt;</th><th scope=col>&lt;chr&gt;</th><th scope=col>&lt;fct&gt;</th><th scope=col>&lt;fct&gt;</th><th scope=col>&lt;fct&gt;</th><th scope=col>&lt;fct&gt;</th><th scope=col>&lt;fct&gt;</th><th scope=col>⋯</th><th scope=col>&lt;fct&gt;</th><th scope=col>&lt;fct&gt;</th><th scope=col>&lt;fct&gt;</th><th scope=col>&lt;chr&gt;</th><th scope=col>&lt;fct&gt;</th><th scope=col>&lt;int&gt;</th><th scope=col>&lt;int&gt;</th><th scope=col>&lt;int&gt;</th><th scope=col>&lt;int&gt;</th><th scope=col>&lt;int&gt;</th></tr>\n",
              "</thead>\n",
              "<tbody>\n",
              "\t<tr><td>ACCIDENT_00000</td><td>2019-01-01 00</td><td>화요일</td><td>맑음</td><td>대구광역시 중구 대신동  </td><td>단일로 - 기타</td><td>건조</td><td>차대사람</td><td>길가장자리구역통행중</td><td>안전운전불이행</td><td>⋯</td><td>상해없음</td><td>보행자</td><td>여</td><td>70세</td><td>중상</td><td>0</td><td>1</td><td>0</td><td>0</td><td>5</td></tr>\n",
              "\t<tr><td>ACCIDENT_00001</td><td>2019-01-01 00</td><td>화요일</td><td>흐림</td><td>대구광역시 달서구 감삼동</td><td>단일로 - 기타</td><td>건조</td><td>차대사람</td><td>보도통행중          </td><td>기타          </td><td>⋯</td><td>상해없음</td><td>보행자</td><td>남</td><td>61세</td><td>경상</td><td>0</td><td>0</td><td>1</td><td>0</td><td>3</td></tr>\n",
              "</tbody>\n",
              "</table>\n"
            ],
            "text/markdown": "\nA tibble: 2 × 23\n\n| ID &lt;chr&gt; | 사고일시 &lt;chr&gt; | 요일 &lt;fct&gt; | 기상상태 &lt;fct&gt; | 시군구 &lt;chr&gt; | 도로형태 &lt;fct&gt; | 노면상태 &lt;fct&gt; | 사고유형 &lt;fct&gt; | 사고유형세부분류 &lt;fct&gt; | 법규위반 &lt;fct&gt; | ⋯ ⋯ | 가해운전자상해정도 &lt;fct&gt; | 피해운전자차종 &lt;fct&gt; | 피해운전자성별 &lt;fct&gt; | 피해운전자연령 &lt;chr&gt; | 피해운전자상해정도 &lt;fct&gt; | 사망자수 &lt;int&gt; | 중상자수 &lt;int&gt; | 경상자수 &lt;int&gt; | 부상자수 &lt;int&gt; | ECLO &lt;int&gt; |\n|---|---|---|---|---|---|---|---|---|---|---|---|---|---|---|---|---|---|---|---|---|\n| ACCIDENT_00000 | 2019-01-01 00 | 화요일 | 맑음 | 대구광역시 중구 대신동   | 단일로 - 기타 | 건조 | 차대사람 | 길가장자리구역통행중 | 안전운전불이행 | ⋯ | 상해없음 | 보행자 | 여 | 70세 | 중상 | 0 | 1 | 0 | 0 | 5 |\n| ACCIDENT_00001 | 2019-01-01 00 | 화요일 | 흐림 | 대구광역시 달서구 감삼동 | 단일로 - 기타 | 건조 | 차대사람 | 보도통행중           | 기타           | ⋯ | 상해없음 | 보행자 | 남 | 61세 | 경상 | 0 | 0 | 1 | 0 | 3 |\n\n",
            "text/latex": "A tibble: 2 × 23\n\\begin{tabular}{lllllllllllllllllllll}\n ID & 사고일시 & 요일 & 기상상태 & 시군구 & 도로형태 & 노면상태 & 사고유형 & 사고유형세부분류 & 법규위반 & ⋯ & 가해운전자상해정도 & 피해운전자차종 & 피해운전자성별 & 피해운전자연령 & 피해운전자상해정도 & 사망자수 & 중상자수 & 경상자수 & 부상자수 & ECLO\\\\\n <chr> & <chr> & <fct> & <fct> & <chr> & <fct> & <fct> & <fct> & <fct> & <fct> & ⋯ & <fct> & <fct> & <fct> & <chr> & <fct> & <int> & <int> & <int> & <int> & <int>\\\\\n\\hline\n\t ACCIDENT\\_00000 & 2019-01-01 00 & 화요일 & 맑음 & 대구광역시 중구 대신동   & 단일로 - 기타 & 건조 & 차대사람 & 길가장자리구역통행중 & 안전운전불이행 & ⋯ & 상해없음 & 보행자 & 여 & 70세 & 중상 & 0 & 1 & 0 & 0 & 5\\\\\n\t ACCIDENT\\_00001 & 2019-01-01 00 & 화요일 & 흐림 & 대구광역시 달서구 감삼동 & 단일로 - 기타 & 건조 & 차대사람 & 보도통행중           & 기타           & ⋯ & 상해없음 & 보행자 & 남 & 61세 & 경상 & 0 & 0 & 1 & 0 & 3\\\\\n\\end{tabular}\n",
            "text/plain": [
              "  ID             사고일시      요일   기상상태 시군구                  \n",
              "1 ACCIDENT_00000 2019-01-01 00 화요일 맑음     대구광역시 중구 대신동  \n",
              "2 ACCIDENT_00001 2019-01-01 00 화요일 흐림     대구광역시 달서구 감삼동\n",
              "  도로형태      노면상태 사고유형 사고유형세부분류     법규위반       ⋯\n",
              "1 단일로 - 기타 건조     차대사람 길가장자리구역통행중 안전운전불이행 ⋯\n",
              "2 단일로 - 기타 건조     차대사람 보도통행중           기타           ⋯\n",
              "  가해운전자상해정도 피해운전자차종 피해운전자성별 피해운전자연령\n",
              "1 상해없음           보행자         여             70세          \n",
              "2 상해없음           보행자         남             61세          \n",
              "  피해운전자상해정도 사망자수 중상자수 경상자수 부상자수 ECLO\n",
              "1 중상               0        1        0        0        5   \n",
              "2 경상               0        0        1        0        3   "
            ]
          },
          "metadata": {}
        }
      ]
    },
    {
      "cell_type": "code",
      "source": [
        "# 가해운전자연령, 피해운전자연령 int형으로 변경\n",
        "\n",
        "train$가해운전자연령 <- substr(train$가해운전자연령, 1, 2)#\"세\"빼고 나이 부분만 자르기(앞 숫자 2개)\n",
        "head(train$가해운전자연령)\n",
        "train$피해운전자연령 <- substr(train$피해운전자연령, 1, 2) #\"세\"빼고 나이 부분만 자르기\n",
        "head(train$피해운전자연령)\n",
        "\n",
        "as.numeric()"
      ],
      "metadata": {
        "id": "Qq3OOsA7agio",
        "colab": {
          "base_uri": "https://localhost:8080/",
          "height": 52
        },
        "outputId": "5f95419f-c057-44f9-9ae1-53f5034d413f"
      },
      "execution_count": 12,
      "outputs": [
        {
          "output_type": "display_data",
          "data": {
            "text/html": [
              "<style>\n",
              ".list-inline {list-style: none; margin:0; padding: 0}\n",
              ".list-inline>li {display: inline-block}\n",
              ".list-inline>li:not(:last-child)::after {content: \"\\00b7\"; padding: 0 .5ex}\n",
              "</style>\n",
              "<ol class=list-inline><li>'51'</li><li>'39'</li><li>'70'</li><li>'49'</li><li>'30'</li><li>'52'</li></ol>\n"
            ],
            "text/markdown": "1. '51'\n2. '39'\n3. '70'\n4. '49'\n5. '30'\n6. '52'\n\n\n",
            "text/latex": "\\begin{enumerate*}\n\\item '51'\n\\item '39'\n\\item '70'\n\\item '49'\n\\item '30'\n\\item '52'\n\\end{enumerate*}\n",
            "text/plain": [
              "[1] \"51\" \"39\" \"70\" \"49\" \"30\" \"52\""
            ]
          },
          "metadata": {}
        },
        {
          "output_type": "display_data",
          "data": {
            "text/html": [
              "<style>\n",
              ".list-inline {list-style: none; margin:0; padding: 0}\n",
              ".list-inline>li {display: inline-block}\n",
              ".list-inline>li:not(:last-child)::after {content: \"\\00b7\"; padding: 0 .5ex}\n",
              "</style>\n",
              "<ol class=list-inline><li>'70'</li><li>'61'</li><li>'38'</li><li>'36'</li><li>'52'</li><li>'35'</li></ol>\n"
            ],
            "text/markdown": "1. '70'\n2. '61'\n3. '38'\n4. '36'\n5. '52'\n6. '35'\n\n\n",
            "text/latex": "\\begin{enumerate*}\n\\item '70'\n\\item '61'\n\\item '38'\n\\item '36'\n\\item '52'\n\\item '35'\n\\end{enumerate*}\n",
            "text/plain": [
              "[1] \"70\" \"61\" \"38\" \"36\" \"52\" \"35\""
            ]
          },
          "metadata": {}
        },
        {
          "output_type": "display_data",
          "data": {
            "text/html": [],
            "text/markdown": "",
            "text/latex": "",
            "text/plain": [
              "numeric(0)"
            ]
          },
          "metadata": {}
        }
      ]
    },
    {
      "cell_type": "code",
      "source": [
        "train$가해운전자연령 <- as.numeric(train$가해운전자연령)\n",
        "train$피해운전자연령 <- as.numeric(train$피해운전자연령)\n",
        "typeof(train$가해운전자연령)\n",
        "typeof(train$피해운전자연령)\n",
        "\n",
        "head(train,2)"
      ],
      "metadata": {
        "id": "djjQGb2-bNVW",
        "colab": {
          "base_uri": "https://localhost:8080/",
          "height": 463
        },
        "outputId": "252982cd-9c7e-4458-856f-ffcb434e5644"
      },
      "execution_count": 13,
      "outputs": [
        {
          "output_type": "stream",
          "name": "stderr",
          "text": [
            "Warning message in eval(expr, envir, enclos):\n",
            "“NAs introduced by coercion”\n",
            "Warning message in eval(expr, envir, enclos):\n",
            "“NAs introduced by coercion”\n"
          ]
        },
        {
          "output_type": "display_data",
          "data": {
            "text/html": [
              "'double'"
            ],
            "text/markdown": "'double'",
            "text/latex": "'double'",
            "text/plain": [
              "[1] \"double\""
            ]
          },
          "metadata": {}
        },
        {
          "output_type": "display_data",
          "data": {
            "text/html": [
              "'double'"
            ],
            "text/markdown": "'double'",
            "text/latex": "'double'",
            "text/plain": [
              "[1] \"double\""
            ]
          },
          "metadata": {}
        },
        {
          "output_type": "display_data",
          "data": {
            "text/html": [
              "<table class=\"dataframe\">\n",
              "<caption>A tibble: 2 × 23</caption>\n",
              "<thead>\n",
              "\t<tr><th scope=col>ID</th><th scope=col>사고일시</th><th scope=col>요일</th><th scope=col>기상상태</th><th scope=col>시군구</th><th scope=col>도로형태</th><th scope=col>노면상태</th><th scope=col>사고유형</th><th scope=col>사고유형세부분류</th><th scope=col>법규위반</th><th scope=col>⋯</th><th scope=col>가해운전자상해정도</th><th scope=col>피해운전자차종</th><th scope=col>피해운전자성별</th><th scope=col>피해운전자연령</th><th scope=col>피해운전자상해정도</th><th scope=col>사망자수</th><th scope=col>중상자수</th><th scope=col>경상자수</th><th scope=col>부상자수</th><th scope=col>ECLO</th></tr>\n",
              "\t<tr><th scope=col>&lt;chr&gt;</th><th scope=col>&lt;chr&gt;</th><th scope=col>&lt;fct&gt;</th><th scope=col>&lt;fct&gt;</th><th scope=col>&lt;chr&gt;</th><th scope=col>&lt;fct&gt;</th><th scope=col>&lt;fct&gt;</th><th scope=col>&lt;fct&gt;</th><th scope=col>&lt;fct&gt;</th><th scope=col>&lt;fct&gt;</th><th scope=col>⋯</th><th scope=col>&lt;fct&gt;</th><th scope=col>&lt;fct&gt;</th><th scope=col>&lt;fct&gt;</th><th scope=col>&lt;dbl&gt;</th><th scope=col>&lt;fct&gt;</th><th scope=col>&lt;int&gt;</th><th scope=col>&lt;int&gt;</th><th scope=col>&lt;int&gt;</th><th scope=col>&lt;int&gt;</th><th scope=col>&lt;int&gt;</th></tr>\n",
              "</thead>\n",
              "<tbody>\n",
              "\t<tr><td>ACCIDENT_00000</td><td>2019-01-01 00</td><td>화요일</td><td>맑음</td><td>대구광역시 중구 대신동  </td><td>단일로 - 기타</td><td>건조</td><td>차대사람</td><td>길가장자리구역통행중</td><td>안전운전불이행</td><td>⋯</td><td>상해없음</td><td>보행자</td><td>여</td><td>70</td><td>중상</td><td>0</td><td>1</td><td>0</td><td>0</td><td>5</td></tr>\n",
              "\t<tr><td>ACCIDENT_00001</td><td>2019-01-01 00</td><td>화요일</td><td>흐림</td><td>대구광역시 달서구 감삼동</td><td>단일로 - 기타</td><td>건조</td><td>차대사람</td><td>보도통행중          </td><td>기타          </td><td>⋯</td><td>상해없음</td><td>보행자</td><td>남</td><td>61</td><td>경상</td><td>0</td><td>0</td><td>1</td><td>0</td><td>3</td></tr>\n",
              "</tbody>\n",
              "</table>\n"
            ],
            "text/markdown": "\nA tibble: 2 × 23\n\n| ID &lt;chr&gt; | 사고일시 &lt;chr&gt; | 요일 &lt;fct&gt; | 기상상태 &lt;fct&gt; | 시군구 &lt;chr&gt; | 도로형태 &lt;fct&gt; | 노면상태 &lt;fct&gt; | 사고유형 &lt;fct&gt; | 사고유형세부분류 &lt;fct&gt; | 법규위반 &lt;fct&gt; | ⋯ ⋯ | 가해운전자상해정도 &lt;fct&gt; | 피해운전자차종 &lt;fct&gt; | 피해운전자성별 &lt;fct&gt; | 피해운전자연령 &lt;dbl&gt; | 피해운전자상해정도 &lt;fct&gt; | 사망자수 &lt;int&gt; | 중상자수 &lt;int&gt; | 경상자수 &lt;int&gt; | 부상자수 &lt;int&gt; | ECLO &lt;int&gt; |\n|---|---|---|---|---|---|---|---|---|---|---|---|---|---|---|---|---|---|---|---|---|\n| ACCIDENT_00000 | 2019-01-01 00 | 화요일 | 맑음 | 대구광역시 중구 대신동   | 단일로 - 기타 | 건조 | 차대사람 | 길가장자리구역통행중 | 안전운전불이행 | ⋯ | 상해없음 | 보행자 | 여 | 70 | 중상 | 0 | 1 | 0 | 0 | 5 |\n| ACCIDENT_00001 | 2019-01-01 00 | 화요일 | 흐림 | 대구광역시 달서구 감삼동 | 단일로 - 기타 | 건조 | 차대사람 | 보도통행중           | 기타           | ⋯ | 상해없음 | 보행자 | 남 | 61 | 경상 | 0 | 0 | 1 | 0 | 3 |\n\n",
            "text/latex": "A tibble: 2 × 23\n\\begin{tabular}{lllllllllllllllllllll}\n ID & 사고일시 & 요일 & 기상상태 & 시군구 & 도로형태 & 노면상태 & 사고유형 & 사고유형세부분류 & 법규위반 & ⋯ & 가해운전자상해정도 & 피해운전자차종 & 피해운전자성별 & 피해운전자연령 & 피해운전자상해정도 & 사망자수 & 중상자수 & 경상자수 & 부상자수 & ECLO\\\\\n <chr> & <chr> & <fct> & <fct> & <chr> & <fct> & <fct> & <fct> & <fct> & <fct> & ⋯ & <fct> & <fct> & <fct> & <dbl> & <fct> & <int> & <int> & <int> & <int> & <int>\\\\\n\\hline\n\t ACCIDENT\\_00000 & 2019-01-01 00 & 화요일 & 맑음 & 대구광역시 중구 대신동   & 단일로 - 기타 & 건조 & 차대사람 & 길가장자리구역통행중 & 안전운전불이행 & ⋯ & 상해없음 & 보행자 & 여 & 70 & 중상 & 0 & 1 & 0 & 0 & 5\\\\\n\t ACCIDENT\\_00001 & 2019-01-01 00 & 화요일 & 흐림 & 대구광역시 달서구 감삼동 & 단일로 - 기타 & 건조 & 차대사람 & 보도통행중           & 기타           & ⋯ & 상해없음 & 보행자 & 남 & 61 & 경상 & 0 & 0 & 1 & 0 & 3\\\\\n\\end{tabular}\n",
            "text/plain": [
              "  ID             사고일시      요일   기상상태 시군구                  \n",
              "1 ACCIDENT_00000 2019-01-01 00 화요일 맑음     대구광역시 중구 대신동  \n",
              "2 ACCIDENT_00001 2019-01-01 00 화요일 흐림     대구광역시 달서구 감삼동\n",
              "  도로형태      노면상태 사고유형 사고유형세부분류     법규위반       ⋯\n",
              "1 단일로 - 기타 건조     차대사람 길가장자리구역통행중 안전운전불이행 ⋯\n",
              "2 단일로 - 기타 건조     차대사람 보도통행중           기타           ⋯\n",
              "  가해운전자상해정도 피해운전자차종 피해운전자성별 피해운전자연령\n",
              "1 상해없음           보행자         여             70            \n",
              "2 상해없음           보행자         남             61            \n",
              "  피해운전자상해정도 사망자수 중상자수 경상자수 부상자수 ECLO\n",
              "1 중상               0        1        0        0        5   \n",
              "2 경상               0        0        1        0        3   "
            ]
          },
          "metadata": {}
        }
      ]
    },
    {
      "cell_type": "markdown",
      "source": [
        "1-2) tibble() : 데이터프레임 처리 시 편의성과 일관성 높음"
      ],
      "metadata": {
        "id": "P6u3ZwY8FP7E"
      }
    },
    {
      "cell_type": "code",
      "source": [
        "train<- as.tibble(train)\n",
        "head(train, 2)"
      ],
      "metadata": {
        "id": "ElbPQQYDD1hZ",
        "colab": {
          "base_uri": "https://localhost:8080/",
          "height": 428
        },
        "outputId": "ecf24a83-4cb4-42dd-abe7-9e203c5702fd"
      },
      "execution_count": 14,
      "outputs": [
        {
          "output_type": "stream",
          "name": "stderr",
          "text": [
            "Warning message:\n",
            "“\u001b[1m\u001b[22m`as.tibble()` was deprecated in tibble 2.0.0.\n",
            "\u001b[36mℹ\u001b[39m Please use `as_tibble()` instead.\n",
            "\u001b[36mℹ\u001b[39m The signature and semantics have changed, see `?as_tibble`.”\n"
          ]
        },
        {
          "output_type": "display_data",
          "data": {
            "text/html": [
              "<table class=\"dataframe\">\n",
              "<caption>A tibble: 2 × 23</caption>\n",
              "<thead>\n",
              "\t<tr><th scope=col>ID</th><th scope=col>사고일시</th><th scope=col>요일</th><th scope=col>기상상태</th><th scope=col>시군구</th><th scope=col>도로형태</th><th scope=col>노면상태</th><th scope=col>사고유형</th><th scope=col>사고유형세부분류</th><th scope=col>법규위반</th><th scope=col>⋯</th><th scope=col>가해운전자상해정도</th><th scope=col>피해운전자차종</th><th scope=col>피해운전자성별</th><th scope=col>피해운전자연령</th><th scope=col>피해운전자상해정도</th><th scope=col>사망자수</th><th scope=col>중상자수</th><th scope=col>경상자수</th><th scope=col>부상자수</th><th scope=col>ECLO</th></tr>\n",
              "\t<tr><th scope=col>&lt;chr&gt;</th><th scope=col>&lt;chr&gt;</th><th scope=col>&lt;fct&gt;</th><th scope=col>&lt;fct&gt;</th><th scope=col>&lt;chr&gt;</th><th scope=col>&lt;fct&gt;</th><th scope=col>&lt;fct&gt;</th><th scope=col>&lt;fct&gt;</th><th scope=col>&lt;fct&gt;</th><th scope=col>&lt;fct&gt;</th><th scope=col>⋯</th><th scope=col>&lt;fct&gt;</th><th scope=col>&lt;fct&gt;</th><th scope=col>&lt;fct&gt;</th><th scope=col>&lt;dbl&gt;</th><th scope=col>&lt;fct&gt;</th><th scope=col>&lt;int&gt;</th><th scope=col>&lt;int&gt;</th><th scope=col>&lt;int&gt;</th><th scope=col>&lt;int&gt;</th><th scope=col>&lt;int&gt;</th></tr>\n",
              "</thead>\n",
              "<tbody>\n",
              "\t<tr><td>ACCIDENT_00000</td><td>2019-01-01 00</td><td>화요일</td><td>맑음</td><td>대구광역시 중구 대신동  </td><td>단일로 - 기타</td><td>건조</td><td>차대사람</td><td>길가장자리구역통행중</td><td>안전운전불이행</td><td>⋯</td><td>상해없음</td><td>보행자</td><td>여</td><td>70</td><td>중상</td><td>0</td><td>1</td><td>0</td><td>0</td><td>5</td></tr>\n",
              "\t<tr><td>ACCIDENT_00001</td><td>2019-01-01 00</td><td>화요일</td><td>흐림</td><td>대구광역시 달서구 감삼동</td><td>단일로 - 기타</td><td>건조</td><td>차대사람</td><td>보도통행중          </td><td>기타          </td><td>⋯</td><td>상해없음</td><td>보행자</td><td>남</td><td>61</td><td>경상</td><td>0</td><td>0</td><td>1</td><td>0</td><td>3</td></tr>\n",
              "</tbody>\n",
              "</table>\n"
            ],
            "text/markdown": "\nA tibble: 2 × 23\n\n| ID &lt;chr&gt; | 사고일시 &lt;chr&gt; | 요일 &lt;fct&gt; | 기상상태 &lt;fct&gt; | 시군구 &lt;chr&gt; | 도로형태 &lt;fct&gt; | 노면상태 &lt;fct&gt; | 사고유형 &lt;fct&gt; | 사고유형세부분류 &lt;fct&gt; | 법규위반 &lt;fct&gt; | ⋯ ⋯ | 가해운전자상해정도 &lt;fct&gt; | 피해운전자차종 &lt;fct&gt; | 피해운전자성별 &lt;fct&gt; | 피해운전자연령 &lt;dbl&gt; | 피해운전자상해정도 &lt;fct&gt; | 사망자수 &lt;int&gt; | 중상자수 &lt;int&gt; | 경상자수 &lt;int&gt; | 부상자수 &lt;int&gt; | ECLO &lt;int&gt; |\n|---|---|---|---|---|---|---|---|---|---|---|---|---|---|---|---|---|---|---|---|---|\n| ACCIDENT_00000 | 2019-01-01 00 | 화요일 | 맑음 | 대구광역시 중구 대신동   | 단일로 - 기타 | 건조 | 차대사람 | 길가장자리구역통행중 | 안전운전불이행 | ⋯ | 상해없음 | 보행자 | 여 | 70 | 중상 | 0 | 1 | 0 | 0 | 5 |\n| ACCIDENT_00001 | 2019-01-01 00 | 화요일 | 흐림 | 대구광역시 달서구 감삼동 | 단일로 - 기타 | 건조 | 차대사람 | 보도통행중           | 기타           | ⋯ | 상해없음 | 보행자 | 남 | 61 | 경상 | 0 | 0 | 1 | 0 | 3 |\n\n",
            "text/latex": "A tibble: 2 × 23\n\\begin{tabular}{lllllllllllllllllllll}\n ID & 사고일시 & 요일 & 기상상태 & 시군구 & 도로형태 & 노면상태 & 사고유형 & 사고유형세부분류 & 법규위반 & ⋯ & 가해운전자상해정도 & 피해운전자차종 & 피해운전자성별 & 피해운전자연령 & 피해운전자상해정도 & 사망자수 & 중상자수 & 경상자수 & 부상자수 & ECLO\\\\\n <chr> & <chr> & <fct> & <fct> & <chr> & <fct> & <fct> & <fct> & <fct> & <fct> & ⋯ & <fct> & <fct> & <fct> & <dbl> & <fct> & <int> & <int> & <int> & <int> & <int>\\\\\n\\hline\n\t ACCIDENT\\_00000 & 2019-01-01 00 & 화요일 & 맑음 & 대구광역시 중구 대신동   & 단일로 - 기타 & 건조 & 차대사람 & 길가장자리구역통행중 & 안전운전불이행 & ⋯ & 상해없음 & 보행자 & 여 & 70 & 중상 & 0 & 1 & 0 & 0 & 5\\\\\n\t ACCIDENT\\_00001 & 2019-01-01 00 & 화요일 & 흐림 & 대구광역시 달서구 감삼동 & 단일로 - 기타 & 건조 & 차대사람 & 보도통행중           & 기타           & ⋯ & 상해없음 & 보행자 & 남 & 61 & 경상 & 0 & 0 & 1 & 0 & 3\\\\\n\\end{tabular}\n",
            "text/plain": [
              "  ID             사고일시      요일   기상상태 시군구                  \n",
              "1 ACCIDENT_00000 2019-01-01 00 화요일 맑음     대구광역시 중구 대신동  \n",
              "2 ACCIDENT_00001 2019-01-01 00 화요일 흐림     대구광역시 달서구 감삼동\n",
              "  도로형태      노면상태 사고유형 사고유형세부분류     법규위반       ⋯\n",
              "1 단일로 - 기타 건조     차대사람 길가장자리구역통행중 안전운전불이행 ⋯\n",
              "2 단일로 - 기타 건조     차대사람 보도통행중           기타           ⋯\n",
              "  가해운전자상해정도 피해운전자차종 피해운전자성별 피해운전자연령\n",
              "1 상해없음           보행자         여             70            \n",
              "2 상해없음           보행자         남             61            \n",
              "  피해운전자상해정도 사망자수 중상자수 경상자수 부상자수 ECLO\n",
              "1 중상               0        1        0        0        5   \n",
              "2 경상               0        0        1        0        3   "
            ]
          },
          "metadata": {}
        }
      ]
    },
    {
      "cell_type": "markdown",
      "source": [
        "1-3) 결측값 처리"
      ],
      "metadata": {
        "id": "lfrSetboGi7i"
      }
    },
    {
      "cell_type": "code",
      "source": [
        "sum(is.na(train))"
      ],
      "metadata": {
        "id": "O7QYbeFxYWT1",
        "colab": {
          "base_uri": "https://localhost:8080/",
          "height": 34
        },
        "outputId": "33dc2321-b604-4af2-f833-e87d5a86a9c0"
      },
      "execution_count": 15,
      "outputs": [
        {
          "output_type": "display_data",
          "data": {
            "text/html": [
              "2516"
            ],
            "text/markdown": "2516",
            "text/latex": "2516",
            "text/plain": [
              "[1] 2516"
            ]
          },
          "metadata": {}
        }
      ]
    },
    {
      "cell_type": "code",
      "source": [
        "table(is.na(train)) # 결측값 2124개"
      ],
      "metadata": {
        "id": "8OLJoecUXoGm",
        "colab": {
          "base_uri": "https://localhost:8080/",
          "height": 72
        },
        "outputId": "737b09ac-9ba8-4a87-ff3d-4603629ffaa8"
      },
      "execution_count": 16,
      "outputs": [
        {
          "output_type": "display_data",
          "data": {
            "text/plain": [
              "\n",
              " FALSE   TRUE \n",
              "908491   2516 "
            ]
          },
          "metadata": {}
        }
      ]
    },
    {
      "cell_type": "code",
      "source": [
        "train = na.omit(train) #결측치 제거\n",
        "table(is.na(train))"
      ],
      "metadata": {
        "id": "oHjODBcLYjbP",
        "colab": {
          "base_uri": "https://localhost:8080/",
          "height": 72
        },
        "outputId": "2877c621-bffe-42d2-f969-0be5d5a0e58a"
      },
      "execution_count": 17,
      "outputs": [
        {
          "output_type": "display_data",
          "data": {
            "text/plain": [
              "\n",
              " FALSE \n",
              "853944 "
            ]
          },
          "metadata": {}
        }
      ]
    },
    {
      "cell_type": "markdown",
      "source": [
        "2-1) select() : 학습에 사용할 열(변수)추출"
      ],
      "metadata": {
        "id": "T4w23V5Fl9Pd"
      }
    },
    {
      "cell_type": "code",
      "source": [
        "#사용할 피처 선택해서 train 데이터 다시 구성\n",
        "train <- train %>% select(도로형태, 노면상태, 사고유형, 사고유형세부분류, 법규위반, 가해운전자차종, 가해운전자연령, 가해운전자상해정도, 피해운전자차종, 피해운전자연령, 피해운전자상해정도, 사망자수, 중상자수, 경상자수, 부상자수, ECLO)\n",
        "train %>% show()"
      ],
      "metadata": {
        "id": "OAg14LozeHh4",
        "colab": {
          "base_uri": "https://localhost:8080/"
        },
        "outputId": "f79ea9c9-e531-44fd-a083-f1253c83d078"
      },
      "execution_count": 18,
      "outputs": [
        {
          "output_type": "stream",
          "name": "stdout",
          "text": [
            "\u001b[90m# A tibble: 37,128 × 16\u001b[39m\n",
            "   도로형태          노면상태 사고유형 사고유형세부분류  법규위반 가해운전자차종\n",
            "   \u001b[3m\u001b[90m<fct>\u001b[39m\u001b[23m             \u001b[3m\u001b[90m<fct>\u001b[39m\u001b[23m    \u001b[3m\u001b[90m<fct>\u001b[39m\u001b[23m    \u001b[3m\u001b[90m<fct>\u001b[39m\u001b[23m             \u001b[3m\u001b[90m<fct>\u001b[39m\u001b[23m    \u001b[3m\u001b[90m<fct>\u001b[39m\u001b[23m         \n",
            "\u001b[90m 1\u001b[39m 단일로 - 기타     건조     차대사람 길가장자리구역통… 안전운…  승용          \n",
            "\u001b[90m 2\u001b[39m 단일로 - 기타     건조     차대사람 보도통행중        기타     승용          \n",
            "\u001b[90m 3\u001b[39m 단일로 - 기타     건조     차대사람 차도통행중        안전운…  승용          \n",
            "\u001b[90m 4\u001b[39m 단일로 - 기타     건조     차대차   추돌              안전운…  승용          \n",
            "\u001b[90m 5\u001b[39m 단일로 - 기타     건조     차대차   추돌              안전운…  승용          \n",
            "\u001b[90m 6\u001b[39m 단일로 - 기타     건조     차대차   측면충돌          안전운…  승합          \n",
            "\u001b[90m 7\u001b[39m 교차로 - 교차로안 건조     차대차   측면충돌          교차로…  승용          \n",
            "\u001b[90m 8\u001b[39m 단일로 - 기타     건조     차대차   추돌              안전운…  승용          \n",
            "\u001b[90m 9\u001b[39m 기타 - 기타       건조     차대차   기타              안전운…  승용          \n",
            "\u001b[90m10\u001b[39m 단일로 - 터널     건조     차대차   기타              신호위반 승용          \n",
            "\u001b[90m# ℹ 37,118 more rows\u001b[39m\n",
            "\u001b[90m# ℹ 10 more variables: 가해운전자연령 <dbl>, 가해운전자상해정도 <fct>,\u001b[39m\n",
            "\u001b[90m#   피해운전자차종 <fct>, 피해운전자연령 <dbl>, 피해운전자상해정도 <fct>,\u001b[39m\n",
            "\u001b[90m#   사망자수 <int>, 중상자수 <int>, 경상자수 <int>, 부상자수 <int>, ECLO <int>\u001b[39m\n"
          ]
        }
      ]
    },
    {
      "cell_type": "markdown",
      "source": [
        "2-2) mutate() : 새로운 열 추가"
      ],
      "metadata": {
        "id": "nOBf14TQnmcq"
      }
    },
    {
      "cell_type": "code",
      "source": [
        "# 사망자수 + 중상자수 컬럼(사망중상자수) 생성\n",
        "# 경상자수 + 부상자수 컬럼(경상부상자수) 생성\n",
        "# 사망중상자수 컬럼, 경상부상자수 컬럼 train 데이터에 추가\n",
        "train <- train %>% mutate(사망중상자수 = 사망자수 + 중상자수)\n",
        "train <- train %>% mutate(경상부상자수 = 경상자수 + 부상자수)\n",
        "# 사망자수, 중상자수, 경상자수, 부상자수 열 없애기\n",
        "train <- train[, -(12:15)]\n",
        "head(train)"
      ],
      "metadata": {
        "id": "C7jYlevAnDYN",
        "colab": {
          "base_uri": "https://localhost:8080/",
          "height": 512
        },
        "outputId": "84eceadf-7050-49c1-8d03-ea0881121a7d"
      },
      "execution_count": 19,
      "outputs": [
        {
          "output_type": "display_data",
          "data": {
            "text/html": [
              "<table class=\"dataframe\">\n",
              "<caption>A tibble: 6 × 14</caption>\n",
              "<thead>\n",
              "\t<tr><th scope=col>도로형태</th><th scope=col>노면상태</th><th scope=col>사고유형</th><th scope=col>사고유형세부분류</th><th scope=col>법규위반</th><th scope=col>가해운전자차종</th><th scope=col>가해운전자연령</th><th scope=col>가해운전자상해정도</th><th scope=col>피해운전자차종</th><th scope=col>피해운전자연령</th><th scope=col>피해운전자상해정도</th><th scope=col>ECLO</th><th scope=col>사망중상자수</th><th scope=col>경상부상자수</th></tr>\n",
              "\t<tr><th scope=col>&lt;fct&gt;</th><th scope=col>&lt;fct&gt;</th><th scope=col>&lt;fct&gt;</th><th scope=col>&lt;fct&gt;</th><th scope=col>&lt;fct&gt;</th><th scope=col>&lt;fct&gt;</th><th scope=col>&lt;dbl&gt;</th><th scope=col>&lt;fct&gt;</th><th scope=col>&lt;fct&gt;</th><th scope=col>&lt;dbl&gt;</th><th scope=col>&lt;fct&gt;</th><th scope=col>&lt;int&gt;</th><th scope=col>&lt;int&gt;</th><th scope=col>&lt;int&gt;</th></tr>\n",
              "</thead>\n",
              "<tbody>\n",
              "\t<tr><td>단일로 - 기타</td><td>건조</td><td>차대사람</td><td>길가장자리구역통행중</td><td>안전운전불이행</td><td>승용</td><td>51</td><td>상해없음</td><td>보행자</td><td>70</td><td>중상</td><td>5</td><td>1</td><td>0</td></tr>\n",
              "\t<tr><td>단일로 - 기타</td><td>건조</td><td>차대사람</td><td>보도통행중          </td><td>기타          </td><td>승용</td><td>39</td><td>상해없음</td><td>보행자</td><td>61</td><td>경상</td><td>3</td><td>0</td><td>1</td></tr>\n",
              "\t<tr><td>단일로 - 기타</td><td>건조</td><td>차대사람</td><td>차도통행중          </td><td>안전운전불이행</td><td>승용</td><td>70</td><td>상해없음</td><td>보행자</td><td>38</td><td>경상</td><td>3</td><td>0</td><td>1</td></tr>\n",
              "\t<tr><td>단일로 - 기타</td><td>건조</td><td>차대차  </td><td>추돌                </td><td>안전운전불이행</td><td>승용</td><td>49</td><td>상해없음</td><td>승용  </td><td>36</td><td>중상</td><td>5</td><td>1</td><td>0</td></tr>\n",
              "\t<tr><td>단일로 - 기타</td><td>건조</td><td>차대차  </td><td>추돌                </td><td>안전운전불이행</td><td>승용</td><td>30</td><td>상해없음</td><td>승용  </td><td>52</td><td>경상</td><td>3</td><td>0</td><td>1</td></tr>\n",
              "\t<tr><td>단일로 - 기타</td><td>건조</td><td>차대차  </td><td>측면충돌            </td><td>안전운전불이행</td><td>승합</td><td>52</td><td>상해없음</td><td>승용  </td><td>35</td><td>경상</td><td>6</td><td>0</td><td>2</td></tr>\n",
              "</tbody>\n",
              "</table>\n"
            ],
            "text/markdown": "\nA tibble: 6 × 14\n\n| 도로형태 &lt;fct&gt; | 노면상태 &lt;fct&gt; | 사고유형 &lt;fct&gt; | 사고유형세부분류 &lt;fct&gt; | 법규위반 &lt;fct&gt; | 가해운전자차종 &lt;fct&gt; | 가해운전자연령 &lt;dbl&gt; | 가해운전자상해정도 &lt;fct&gt; | 피해운전자차종 &lt;fct&gt; | 피해운전자연령 &lt;dbl&gt; | 피해운전자상해정도 &lt;fct&gt; | ECLO &lt;int&gt; | 사망중상자수 &lt;int&gt; | 경상부상자수 &lt;int&gt; |\n|---|---|---|---|---|---|---|---|---|---|---|---|---|---|\n| 단일로 - 기타 | 건조 | 차대사람 | 길가장자리구역통행중 | 안전운전불이행 | 승용 | 51 | 상해없음 | 보행자 | 70 | 중상 | 5 | 1 | 0 |\n| 단일로 - 기타 | 건조 | 차대사람 | 보도통행중           | 기타           | 승용 | 39 | 상해없음 | 보행자 | 61 | 경상 | 3 | 0 | 1 |\n| 단일로 - 기타 | 건조 | 차대사람 | 차도통행중           | 안전운전불이행 | 승용 | 70 | 상해없음 | 보행자 | 38 | 경상 | 3 | 0 | 1 |\n| 단일로 - 기타 | 건조 | 차대차   | 추돌                 | 안전운전불이행 | 승용 | 49 | 상해없음 | 승용   | 36 | 중상 | 5 | 1 | 0 |\n| 단일로 - 기타 | 건조 | 차대차   | 추돌                 | 안전운전불이행 | 승용 | 30 | 상해없음 | 승용   | 52 | 경상 | 3 | 0 | 1 |\n| 단일로 - 기타 | 건조 | 차대차   | 측면충돌             | 안전운전불이행 | 승합 | 52 | 상해없음 | 승용   | 35 | 경상 | 6 | 0 | 2 |\n\n",
            "text/latex": "A tibble: 6 × 14\n\\begin{tabular}{llllllllllllll}\n 도로형태 & 노면상태 & 사고유형 & 사고유형세부분류 & 법규위반 & 가해운전자차종 & 가해운전자연령 & 가해운전자상해정도 & 피해운전자차종 & 피해운전자연령 & 피해운전자상해정도 & ECLO & 사망중상자수 & 경상부상자수\\\\\n <fct> & <fct> & <fct> & <fct> & <fct> & <fct> & <dbl> & <fct> & <fct> & <dbl> & <fct> & <int> & <int> & <int>\\\\\n\\hline\n\t 단일로 - 기타 & 건조 & 차대사람 & 길가장자리구역통행중 & 안전운전불이행 & 승용 & 51 & 상해없음 & 보행자 & 70 & 중상 & 5 & 1 & 0\\\\\n\t 단일로 - 기타 & 건조 & 차대사람 & 보도통행중           & 기타           & 승용 & 39 & 상해없음 & 보행자 & 61 & 경상 & 3 & 0 & 1\\\\\n\t 단일로 - 기타 & 건조 & 차대사람 & 차도통행중           & 안전운전불이행 & 승용 & 70 & 상해없음 & 보행자 & 38 & 경상 & 3 & 0 & 1\\\\\n\t 단일로 - 기타 & 건조 & 차대차   & 추돌                 & 안전운전불이행 & 승용 & 49 & 상해없음 & 승용   & 36 & 중상 & 5 & 1 & 0\\\\\n\t 단일로 - 기타 & 건조 & 차대차   & 추돌                 & 안전운전불이행 & 승용 & 30 & 상해없음 & 승용   & 52 & 경상 & 3 & 0 & 1\\\\\n\t 단일로 - 기타 & 건조 & 차대차   & 측면충돌             & 안전운전불이행 & 승합 & 52 & 상해없음 & 승용   & 35 & 경상 & 6 & 0 & 2\\\\\n\\end{tabular}\n",
            "text/plain": [
              "  도로형태      노면상태 사고유형 사고유형세부분류     법규위반      \n",
              "1 단일로 - 기타 건조     차대사람 길가장자리구역통행중 안전운전불이행\n",
              "2 단일로 - 기타 건조     차대사람 보도통행중           기타          \n",
              "3 단일로 - 기타 건조     차대사람 차도통행중           안전운전불이행\n",
              "4 단일로 - 기타 건조     차대차   추돌                 안전운전불이행\n",
              "5 단일로 - 기타 건조     차대차   추돌                 안전운전불이행\n",
              "6 단일로 - 기타 건조     차대차   측면충돌             안전운전불이행\n",
              "  가해운전자차종 가해운전자연령 가해운전자상해정도 피해운전자차종\n",
              "1 승용           51             상해없음           보행자        \n",
              "2 승용           39             상해없음           보행자        \n",
              "3 승용           70             상해없음           보행자        \n",
              "4 승용           49             상해없음           승용          \n",
              "5 승용           30             상해없음           승용          \n",
              "6 승합           52             상해없음           승용          \n",
              "  피해운전자연령 피해운전자상해정도 ECLO 사망중상자수 경상부상자수\n",
              "1 70             중상               5    1            0           \n",
              "2 61             경상               3    0            1           \n",
              "3 38             경상               3    0            1           \n",
              "4 36             중상               5    1            0           \n",
              "5 52             경상               3    0            1           \n",
              "6 35             경상               6    0            2           "
            ]
          },
          "metadata": {}
        }
      ]
    },
    {
      "cell_type": "markdown",
      "source": [
        "2-3) 연령 범주화"
      ],
      "metadata": {
        "id": "hzZFWrFOwr-K"
      }
    },
    {
      "cell_type": "code",
      "source": [
        "train$가해운전자연령 <- ifelse(train$가해운전자연령 >= 20 &train$가해운전자연령 < 30, 20,\n",
        "                         ifelse(train$가해운전자연령 >= 30 &train$가해운전자연령 < 40, 30,\n",
        "                         ifelse(train$가해운전자연령 >= 40 &train$가해운전자연령 < 50, 40,\n",
        "                         ifelse(train$가해운전자연령 >= 50 &train$가해운전자연령 < 60, 50,\n",
        "                         ifelse(train$가해운전자연령 >= 60 &train$가해운전자연령 < 70, 60,\n",
        "                         70)))))\n",
        "summary(train$가해운전자연령)"
      ],
      "metadata": {
        "id": "fBvKKqif2D3E",
        "colab": {
          "base_uri": "https://localhost:8080/",
          "height": 54
        },
        "outputId": "68f23a5d-6194-4e4c-d1c2-86910d6df625"
      },
      "execution_count": 20,
      "outputs": [
        {
          "output_type": "display_data",
          "data": {
            "text/plain": [
              "   Min. 1st Qu.  Median    Mean 3rd Qu.    Max. \n",
              "  20.00   30.00   50.00   45.17   60.00   70.00 "
            ]
          },
          "metadata": {}
        }
      ]
    },
    {
      "cell_type": "code",
      "source": [
        "train$피해운전자연령 <- ifelse(train$피해운전자연령 >= 20 &train$피해운전자연령 < 30, 20,\n",
        "                         ifelse(train$피해운전자연령 >= 30 &train$피해운전자연령 < 40, 30,\n",
        "                         ifelse(train$피해운전자연령 >= 40 &train$피해운전자연령 < 50, 40,\n",
        "                         ifelse(train$피해운전자연령 >= 50 &train$피해운전자연령 < 60, 50,\n",
        "                         ifelse(train$피해운전자연령 >= 60 &train$피해운전자연령 < 70, 60,\n",
        "                         70)))))\n",
        "summary(train$피해운전자연령)"
      ],
      "metadata": {
        "id": "YgfwtSC13zz-",
        "colab": {
          "base_uri": "https://localhost:8080/",
          "height": 54
        },
        "outputId": "f4cbd8ca-aaa7-4286-e0fe-5d04d875ab36"
      },
      "execution_count": 21,
      "outputs": [
        {
          "output_type": "display_data",
          "data": {
            "text/plain": [
              "   Min. 1st Qu.  Median    Mean 3rd Qu.    Max. \n",
              "  20.00   30.00   40.00   43.17   60.00   70.00 "
            ]
          },
          "metadata": {}
        }
      ]
    },
    {
      "cell_type": "markdown",
      "source": [
        "4. 전처리"
      ],
      "metadata": {
        "id": "OiHSkpTByge2"
      }
    },
    {
      "cell_type": "markdown",
      "source": [
        "4-1) geom_boxplot()"
      ],
      "metadata": {
        "id": "gk7ZA_YT_RtH"
      }
    },
    {
      "cell_type": "code",
      "source": [
        "install.packages(\"ggthemes\")\n",
        "library(ggthemes)"
      ],
      "metadata": {
        "colab": {
          "base_uri": "https://localhost:8080/"
        },
        "id": "2EtK_34GzZ4b",
        "outputId": "a9fc6660-14c7-4585-b19a-8134e9234e9e"
      },
      "execution_count": null,
      "outputs": [
        {
          "output_type": "stream",
          "name": "stderr",
          "text": [
            "Installing package into ‘/usr/local/lib/R/site-library’\n",
            "(as ‘lib’ is unspecified)\n",
            "\n"
          ]
        }
      ]
    },
    {
      "cell_type": "code",
      "source": [
        "ggplot(data=train, mapping=aes(x=사고유형세부분류, y=ECLO)) +\n",
        "geom_boxplot(mapping=aes(fill=사고유형세부분류), outlier.color=\"red\", outlier.shape=\"★\", outlier.size=7) +\n",
        "#geom_text(mapping=aes(label=is_out), na.rm=T, vjust=-1) +\n",
        "theme(axis.title.x=element_text(family = fonts()[1])) + # 한글 설정.\n",
        "theme_wsj()"
      ],
      "metadata": {
        "colab": {
          "base_uri": "https://localhost:8080/",
          "height": 437
        },
        "id": "UiNlaShm19t8",
        "outputId": "a811fc98-8d76-410d-f5d7-8540bbca4df3"
      },
      "execution_count": null,
      "outputs": [
        {
          "output_type": "display_data",
          "data": {
            "text/plain": [
              "plot without title"
            ],
            "image/png": "[encoded data removed]"
          },
          "metadata": {
            "image/png": {
              "width": 1020,
              "height": 420
            }
          }
        }
      ]
    },
    {
      "cell_type": "code",
      "source": [
        "ggplot(data=train, mapping=aes(x=도로형태, y=ECLO)) +\n",
        "geom_boxplot(mapping=aes(fill=도로형태), outlier.color=\"red\", outlier.shape=\"★\", outlier.size=7) +\n",
        "#geom_text(mapping=aes(label=is_out), na.rm=T, vjust=-1) +\n",
        "theme(axis.title.x=element_text(family = fonts()[1])) + # 한글 설정.\n",
        "theme_wsj()"
      ],
      "metadata": {
        "colab": {
          "base_uri": "https://localhost:8080/",
          "height": 437
        },
        "id": "ZtArbwOJ-LSw",
        "outputId": "bd08bdb8-fa98-41b4-bb43-ccb53bee3442"
      },
      "execution_count": null,
      "outputs": [
        {
          "output_type": "display_data",
          "data": {
            "text/plain": [
              "plot without title"
            ],
            "image/png": "[encoded data removed]"
          },
          "metadata": {
            "image/png": {
              "width": 1020,
              "height": 420
            }
          }
        }
      ]
    },
    {
      "cell_type": "code",
      "source": [
        "install.packages(\"GGally\")\n",
        "install.packages(\"PerformanceAnalytics\")\n",
        "install.packages(\"corrr\")\n",
        "library(GGally)\n",
        "library(PerformanceAnalytics)\n",
        "library(corrr)"
      ],
      "metadata": {
        "colab": {
          "base_uri": "https://localhost:8080/"
        },
        "id": "oIilRRANScBU",
        "outputId": "90472c64-793b-4888-fbfe-c416a32e485a"
      },
      "execution_count": null,
      "outputs": [
        {
          "output_type": "stream",
          "name": "stderr",
          "text": [
            "Installing package into ‘/usr/local/lib/R/site-library’\n",
            "(as ‘lib’ is unspecified)\n",
            "\n",
            "Installing package into ‘/usr/local/lib/R/site-library’\n",
            "(as ‘lib’ is unspecified)\n",
            "\n",
            "Installing package into ‘/usr/local/lib/R/site-library’\n",
            "(as ‘lib’ is unspecified)\n",
            "\n",
            "Loading required package: xts\n",
            "\n",
            "Loading required package: zoo\n",
            "\n",
            "\n",
            "Attaching package: ‘zoo’\n",
            "\n",
            "\n",
            "The following objects are masked from ‘package:base’:\n",
            "\n",
            "    as.Date, as.Date.numeric\n",
            "\n",
            "\n",
            "\n",
            "######################### Warning from 'xts' package ##########################\n",
            "#                                                                             #\n",
            "# The dplyr lag() function breaks how base R's lag() function is supposed to  #\n",
            "# work, which breaks lag(my_xts). Calls to lag(my_xts) that you type or       #\n",
            "# source() into this session won't work correctly.                            #\n",
            "#                                                                             #\n",
            "# Use stats::lag() to make sure you're not using dplyr::lag(), or you can add #\n",
            "# conflictRules('dplyr', exclude = 'lag') to your .Rprofile to stop           #\n",
            "# dplyr from breaking base R's lag() function.                                #\n",
            "#                                                                             #\n",
            "# Code in packages is not affected. It's protected by R's namespace mechanism #\n",
            "# Set `options(xts.warn_dplyr_breaks_lag = FALSE)` to suppress this warning.  #\n",
            "#                                                                             #\n",
            "###############################################################################\n",
            "\n",
            "\n",
            "Attaching package: ‘xts’\n",
            "\n",
            "\n",
            "The following objects are masked from ‘package:data.table’:\n",
            "\n",
            "    first, last\n",
            "\n",
            "\n",
            "The following objects are masked from ‘package:dplyr’:\n",
            "\n",
            "    first, last\n",
            "\n",
            "\n",
            "\n",
            "Attaching package: ‘PerformanceAnalytics’\n",
            "\n",
            "\n",
            "The following object is masked from ‘package:graphics’:\n",
            "\n",
            "    legend\n",
            "\n",
            "\n"
          ]
        }
      ]
    },
    {
      "cell_type": "code",
      "source": [
        "train %>%\n",
        "  correlate() %>%\n",
        "  network_plot(min_cor=0, colours = c(\"indianred2\", \"black\", \"skyblue1\"))"
      ],
      "metadata": {
        "colab": {
          "base_uri": "https://localhost:8080/",
          "height": 531
        },
        "id": "oE-1GL1uTJeq",
        "outputId": "42b8361f-0ebb-4417-f118-147f4817b908"
      },
      "execution_count": null,
      "outputs": [
        {
          "output_type": "stream",
          "name": "stderr",
          "text": [
            "Non-numeric variables removed from input: `도로형태`, `노면상태`, `사고유형`, `사고유형세부분류`, `법규위반`, `가해운전자차종`, `가해운전자상해정도`, `피해운전자차종`, and `피해운전자상해정도`\n",
            "Correlation computed with\n",
            "\u001b[36m•\u001b[39m Method: 'pearson'\n",
            "\u001b[36m•\u001b[39m Missing treated using: 'pairwise.complete.obs'\n"
          ]
        },
        {
          "output_type": "display_data",
          "data": {
            "text/plain": [
              "plot without title"
            ],
            "image/png": "[encoded data removed]"
          },
          "metadata": {
            "image/png": {
              "width": 1020,
              "height": 420
            }
          }
        }
      ]
    },
    {
      "cell_type": "code",
      "source": [
        "boxplot(train)"
      ],
      "metadata": {
        "colab": {
          "base_uri": "https://localhost:8080/",
          "height": 437
        },
        "id": "yd8UR9B-TQW_",
        "outputId": "008d14a6-e2f1-4810-84ca-234fccacdc0e"
      },
      "execution_count": null,
      "outputs": [
        {
          "output_type": "display_data",
          "data": {
            "text/plain": [
              "plot without title"
            ],
            "image/png": "[encoded data removed]"
          },
          "metadata": {
            "image/png": {
              "width": 1020,
              "height": 420
            }
          }
        }
      ]
    },
    {
      "cell_type": "markdown",
      "source": [
        "카이제곱검정 (CrossTable)"
      ],
      "metadata": {
        "id": "-aj7esHa-UBd"
      }
    },
    {
      "cell_type": "code",
      "source": [
        "library(dplyr)"
      ],
      "metadata": {
        "id": "veWf1z1JCRoL"
      },
      "execution_count": 25,
      "outputs": []
    },
    {
      "cell_type": "code",
      "source": [
        "train$사망중상자수 <- ifelse(train$사망중상자수 > 0, 1, # 사망중상자가 있으면 1, 없으면 0\n",
        "                         0)\n",
        "summary(train$사망중상자수)"
      ],
      "metadata": {
        "colab": {
          "base_uri": "https://localhost:8080/",
          "height": 54
        },
        "id": "owr-x5dgCK-6",
        "outputId": "bc236fe9-8389-4342-c630-24f125b74446"
      },
      "execution_count": 29,
      "outputs": [
        {
          "output_type": "display_data",
          "data": {
            "text/plain": [
              "   Min. 1st Qu.  Median    Mean 3rd Qu.    Max. \n",
              " 0.0000  0.0000  0.0000  0.2464  0.0000  1.0000 "
            ]
          },
          "metadata": {}
        }
      ]
    },
    {
      "cell_type": "code",
      "source": [
        "train$경상부상자수 <- ifelse(train$경상부상자수 > 0, 1, # 사망중상자가 있으면 1, 없으면 0\n",
        "                         0)\n",
        "summary(train$경상부상자수)"
      ],
      "metadata": {
        "colab": {
          "base_uri": "https://localhost:8080/",
          "height": 54
        },
        "id": "bl6W268wCMtp",
        "outputId": "a9fd6850-208e-4e2b-d801-72c54af426f2"
      },
      "execution_count": 28,
      "outputs": [
        {
          "output_type": "display_data",
          "data": {
            "text/plain": [
              "   Min. 1st Qu.  Median    Mean 3rd Qu.    Max. \n",
              " 0.0000  1.0000  1.0000  0.8178  1.0000  1.0000 "
            ]
          },
          "metadata": {}
        }
      ]
    },
    {
      "cell_type": "code",
      "source": [
        "install.packages(\"gmodels\")"
      ],
      "metadata": {
        "id": "3GtoupB2MWOd",
        "colab": {
          "base_uri": "https://localhost:8080/"
        },
        "outputId": "48319fa0-dcab-4821-e199-e23a5ff40da5"
      },
      "execution_count": 22,
      "outputs": [
        {
          "output_type": "stream",
          "name": "stderr",
          "text": [
            "Installing package into ‘/usr/local/lib/R/site-library’\n",
            "(as ‘lib’ is unspecified)\n",
            "\n",
            "also installing the dependencies ‘gtools’, ‘gdata’\n",
            "\n",
            "\n"
          ]
        }
      ]
    },
    {
      "cell_type": "code",
      "source": [
        "print(\"사망중상자여부와 가해운전자연령 연관 관계\")\n",
        "gmodels::CrossTable(train$사망중상자수, train$가해운전자연령, chisq = T, expected = T, prop.r = F, prop.c = F)"
      ],
      "metadata": {
        "colab": {
          "base_uri": "https://localhost:8080/"
        },
        "id": "4agdHwQXACZ0",
        "outputId": "3c5934f0-3a74-490c-b4e1-af7acc701ad9"
      },
      "execution_count": 31,
      "outputs": [
        {
          "output_type": "stream",
          "name": "stdout",
          "text": [
            "[1] \"사망중상자여부와 가해운전자연령 연관 관계\"\n",
            "\n",
            " \n",
            "   Cell Contents\n",
            "|-------------------------|\n",
            "|                       N |\n",
            "|              Expected N |\n",
            "| Chi-square contribution |\n",
            "|         N / Table Total |\n",
            "|-------------------------|\n",
            "\n",
            " \n",
            "Total Observations in Table:  37128 \n",
            "\n",
            " \n",
            "             | train$가해운전자연령 \n",
            "train$사망중상자수 |        20 |        30 |        40 |        50 |        60 |        70 | Row Total | \n",
            "-------------|-----------|-----------|-----------|-----------|-----------|-----------|-----------|\n",
            "           0 |      4001 |      4082 |      4889 |      6518 |      5360 |      3130 |     27980 | \n",
            "             |  3989.607 |  4085.315 |  4912.778 |  6556.399 |  5335.553 |  3100.348 |           | \n",
            "             |     0.033 |     0.003 |     0.115 |     0.225 |     0.112 |     0.284 |           | \n",
            "             |     0.108 |     0.110 |     0.132 |     0.176 |     0.144 |     0.084 |           | \n",
            "-------------|-----------|-----------|-----------|-----------|-----------|-----------|-----------|\n",
            "           1 |      1293 |      1339 |      1630 |      2182 |      1720 |       984 |      9148 | \n",
            "             |  1304.393 |  1335.685 |  1606.222 |  2143.601 |  1744.447 |  1013.652 |           | \n",
            "             |     0.100 |     0.008 |     0.352 |     0.688 |     0.343 |     0.867 |           | \n",
            "             |     0.035 |     0.036 |     0.044 |     0.059 |     0.046 |     0.027 |           | \n",
            "-------------|-----------|-----------|-----------|-----------|-----------|-----------|-----------|\n",
            "Column Total |      5294 |      5421 |      6519 |      8700 |      7080 |      4114 |     37128 | \n",
            "-------------|-----------|-----------|-----------|-----------|-----------|-----------|-----------|\n",
            "\n",
            " \n",
            "Statistics for All Table Factors\n",
            "\n",
            "\n",
            "Pearson's Chi-squared test \n",
            "------------------------------------------------------------\n",
            "Chi^2 =  3.128449     d.f. =  5     p =  0.6801904 \n",
            "\n",
            "\n",
            " \n"
          ]
        }
      ]
    },
    {
      "cell_type": "code",
      "source": [
        "print(\"경상부상자여부와 가해운전자연령 연관 관계\")\n",
        "gmodels::CrossTable(train$경상부상자수, train$가해운전자연령, chisq = T, expected = T, prop.r = F, prop.c = F)"
      ],
      "metadata": {
        "colab": {
          "base_uri": "https://localhost:8080/"
        },
        "id": "4wldB85aAJlA",
        "outputId": "351e31d7-a57b-4bf6-bd62-84c78c5571a7"
      },
      "execution_count": 32,
      "outputs": [
        {
          "output_type": "stream",
          "name": "stdout",
          "text": [
            "[1] \"경상부상자여부와 가해운전자연령 연관 관계\"\n",
            "\n",
            " \n",
            "   Cell Contents\n",
            "|-------------------------|\n",
            "|                       N |\n",
            "|              Expected N |\n",
            "| Chi-square contribution |\n",
            "|         N / Table Total |\n",
            "|-------------------------|\n",
            "\n",
            " \n",
            "Total Observations in Table:  37128 \n",
            "\n",
            " \n",
            "             | train$가해운전자연령 \n",
            "train$경상부상자수 |        20 |        30 |        40 |        50 |        60 |        70 | Row Total | \n",
            "-------------|-----------|-----------|-----------|-----------|-----------|-----------|-----------|\n",
            "           0 |       875 |       955 |      1244 |      1648 |      1307 |       735 |      6764 | \n",
            "             |   964.464 |   987.601 |  1187.635 |  1584.971 |  1289.838 |   749.491 |           | \n",
            "             |     8.299 |     1.076 |     2.675 |     2.506 |     0.228 |     0.280 |           | \n",
            "             |     0.024 |     0.026 |     0.034 |     0.044 |     0.035 |     0.020 |           | \n",
            "-------------|-----------|-----------|-----------|-----------|-----------|-----------|-----------|\n",
            "           1 |      4419 |      4466 |      5275 |      7052 |      5773 |      3379 |     30364 | \n",
            "             |  4329.536 |  4433.399 |  5331.365 |  7115.029 |  5790.162 |  3364.509 |           | \n",
            "             |     1.849 |     0.240 |     0.596 |     0.558 |     0.051 |     0.062 |           | \n",
            "             |     0.119 |     0.120 |     0.142 |     0.190 |     0.155 |     0.091 |           | \n",
            "-------------|-----------|-----------|-----------|-----------|-----------|-----------|-----------|\n",
            "Column Total |      5294 |      5421 |      6519 |      8700 |      7080 |      4114 |     37128 | \n",
            "-------------|-----------|-----------|-----------|-----------|-----------|-----------|-----------|\n",
            "\n",
            " \n",
            "Statistics for All Table Factors\n",
            "\n",
            "\n",
            "Pearson's Chi-squared test \n",
            "------------------------------------------------------------\n",
            "Chi^2 =  18.4208     d.f. =  5     p =  0.002462736 \n",
            "\n",
            "\n",
            " \n"
          ]
        }
      ]
    },
    {
      "cell_type": "code",
      "source": [
        "print(\"피해 운전자 차종과 사망 중상자여부 연관 관계\")\n",
        "gmodels::CrossTable(train$사망중상자수, train$피해운전자차종, chisq = T, expected = T, prop.r = F, prop.c = F)"
      ],
      "metadata": {
        "colab": {
          "base_uri": "https://localhost:8080/"
        },
        "id": "46JMop4HANpS",
        "outputId": "02b80214-0b56-43dc-def8-80c2d8c67fc3"
      },
      "execution_count": 40,
      "outputs": [
        {
          "output_type": "stream",
          "name": "stdout",
          "text": [
            "[1] \"피해 운전자 차종과 사망 중상자여부 연관 관계\"\n"
          ]
        },
        {
          "output_type": "stream",
          "name": "stderr",
          "text": [
            "Warning message in chisq.test(t, correct = FALSE, ...):\n",
            "“Chi-squared approximation may be incorrect”\n"
          ]
        },
        {
          "output_type": "stream",
          "name": "stdout",
          "text": [
            "\n",
            " \n",
            "   Cell Contents\n",
            "|-------------------------|\n",
            "|                       N |\n",
            "|              Expected N |\n",
            "| Chi-square contribution |\n",
            "|         N / Table Total |\n",
            "|-------------------------|\n",
            "\n",
            " \n",
            "Total Observations in Table:  37128 \n",
            "\n",
            " \n",
            "             | train$피해운전자차종 \n",
            "train$사망중상자수 | 개인형이동수단(PM) |           건설기계 |           기타불명 |             농기계 |             보행자 |  사륜오토바이(ATV) |               승용 |               승합 |             원동기 |               이륜 |             자전거 |               특수 |               화물 |   Row Total | \n",
            "-------------|-------------|-------------|-------------|-------------|-------------|-------------|-------------|-------------|-------------|-------------|-------------|-------------|-------------|-------------|\n",
            "           0 |         103 |          96 |          23 |           1 |        3637 |          11 |       16782 |         768 |         395 |        3327 |        1171 |          50 |        1616 |       27980 | \n",
            "             |     117.563 |      90.433 |      29.391 |       6.029 |    4565.364 |      15.826 |   15109.110 |     743.059 |     430.311 |    3829.842 |    1465.770 |      55.013 |    1522.290 |             | \n",
            "             |       1.804 |       0.343 |       1.390 |       4.195 |     188.782 |       1.472 |     185.224 |       0.837 |       2.898 |      66.021 |      59.279 |       0.457 |       5.769 |             | \n",
            "             |       0.003 |       0.003 |       0.001 |       0.000 |       0.098 |       0.000 |       0.452 |       0.021 |       0.011 |       0.090 |       0.032 |       0.001 |       0.044 |             | \n",
            "-------------|-------------|-------------|-------------|-------------|-------------|-------------|-------------|-------------|-------------|-------------|-------------|-------------|-------------|-------------|\n",
            "           1 |          53 |          24 |          16 |           7 |        2421 |          10 |        3267 |         218 |         176 |        1755 |         774 |          23 |         404 |        9148 | \n",
            "             |      38.437 |      29.567 |       9.609 |       1.971 |    1492.636 |       5.174 |    4939.890 |     242.941 |     140.689 |    1252.158 |     479.230 |      17.987 |     497.710 |             | \n",
            "             |       5.518 |       1.048 |       4.250 |      12.830 |     577.408 |       4.501 |     566.523 |       2.561 |       8.862 |     201.931 |     181.310 |       1.397 |      17.644 |             | \n",
            "             |       0.001 |       0.001 |       0.000 |       0.000 |       0.065 |       0.000 |       0.088 |       0.006 |       0.005 |       0.047 |       0.021 |       0.001 |       0.011 |             | \n",
            "-------------|-------------|-------------|-------------|-------------|-------------|-------------|-------------|-------------|-------------|-------------|-------------|-------------|-------------|-------------|\n",
            "Column Total |         156 |         120 |          39 |           8 |        6058 |          21 |       20049 |         986 |         571 |        5082 |        1945 |          73 |        2020 |       37128 | \n",
            "-------------|-------------|-------------|-------------|-------------|-------------|-------------|-------------|-------------|-------------|-------------|-------------|-------------|-------------|-------------|\n",
            "\n",
            " \n",
            "Statistics for All Table Factors\n",
            "\n",
            "\n",
            "Pearson's Chi-squared test \n",
            "------------------------------------------------------------\n",
            "Chi^2 =  2104.252     d.f. =  12     p =  0 \n",
            "\n",
            "\n",
            " \n"
          ]
        }
      ]
    },
    {
      "cell_type": "code",
      "source": [
        "print(\"피해 운전자 차종과 경상 부상자여부 연관 관계\")\n",
        "gmodels::CrossTable(train$경상부상자수, train$피해운전자차종, chisq = T, expected = T, prop.r = F, prop.c = F)"
      ],
      "metadata": {
        "colab": {
          "base_uri": "https://localhost:8080/"
        },
        "id": "VplxWPKCAcOx",
        "outputId": "6428a087-51c5-4145-a3ce-a296837e22cc"
      },
      "execution_count": 41,
      "outputs": [
        {
          "output_type": "stream",
          "name": "stdout",
          "text": [
            "[1] \"피해 운전자 차종과 경상 부상자여부 연관 관계\"\n"
          ]
        },
        {
          "output_type": "stream",
          "name": "stderr",
          "text": [
            "Warning message in chisq.test(t, correct = FALSE, ...):\n",
            "“Chi-squared approximation may be incorrect”\n"
          ]
        },
        {
          "output_type": "stream",
          "name": "stdout",
          "text": [
            "\n",
            " \n",
            "   Cell Contents\n",
            "|-------------------------|\n",
            "|                       N |\n",
            "|              Expected N |\n",
            "| Chi-square contribution |\n",
            "|         N / Table Total |\n",
            "|-------------------------|\n",
            "\n",
            " \n",
            "Total Observations in Table:  37128 \n",
            "\n",
            " \n",
            "             | train$피해운전자차종 \n",
            "train$경상부상자수 | 개인형이동수단(PM) |           건설기계 |           기타불명 |             농기계 |             보행자 |  사륜오토바이(ATV) |               승용 |               승합 |             원동기 |               이륜 |             자전거 |               특수 |               화물 |   Row Total | \n",
            "-------------|-------------|-------------|-------------|-------------|-------------|-------------|-------------|-------------|-------------|-------------|-------------|-------------|-------------|-------------|\n",
            "           0 |          48 |          16 |          15 |           6 |        2304 |           7 |        1597 |         112 |         163 |        1514 |         747 |          12 |         223 |        6764 | \n",
            "             |      28.420 |      21.862 |       7.105 |       1.457 |    1103.650 |       3.826 |    3652.538 |     179.630 |     104.025 |     925.842 |     354.341 |      13.299 |     368.005 |             | \n",
            "             |      13.489 |       1.572 |       8.773 |      14.158 |    1305.523 |       2.634 |    1156.795 |      25.462 |      33.435 |     373.639 |     435.120 |       0.127 |      57.136 |             | \n",
            "             |       0.001 |       0.000 |       0.000 |       0.000 |       0.062 |       0.000 |       0.043 |       0.003 |       0.004 |       0.041 |       0.020 |       0.000 |       0.006 |             | \n",
            "-------------|-------------|-------------|-------------|-------------|-------------|-------------|-------------|-------------|-------------|-------------|-------------|-------------|-------------|-------------|\n",
            "           1 |         108 |         104 |          24 |           2 |        3754 |          14 |       18452 |         874 |         408 |        3568 |        1198 |          61 |        1797 |       30364 | \n",
            "             |     127.580 |      98.138 |      31.895 |       6.543 |    4954.350 |      17.174 |   16396.462 |     806.370 |     466.975 |    4156.158 |    1590.659 |      59.701 |    1651.995 |             | \n",
            "             |       3.005 |       0.350 |       1.954 |       3.154 |     290.823 |       0.587 |     257.692 |       5.672 |       7.448 |      83.233 |      96.929 |       0.028 |      12.728 |             | \n",
            "             |       0.003 |       0.003 |       0.001 |       0.000 |       0.101 |       0.000 |       0.497 |       0.024 |       0.011 |       0.096 |       0.032 |       0.002 |       0.048 |             | \n",
            "-------------|-------------|-------------|-------------|-------------|-------------|-------------|-------------|-------------|-------------|-------------|-------------|-------------|-------------|-------------|\n",
            "Column Total |         156 |         120 |          39 |           8 |        6058 |          21 |       20049 |         986 |         571 |        5082 |        1945 |          73 |        2020 |       37128 | \n",
            "-------------|-------------|-------------|-------------|-------------|-------------|-------------|-------------|-------------|-------------|-------------|-------------|-------------|-------------|-------------|\n",
            "\n",
            " \n",
            "Statistics for All Table Factors\n",
            "\n",
            "\n",
            "Pearson's Chi-squared test \n",
            "------------------------------------------------------------\n",
            "Chi^2 =  4191.466     d.f. =  12     p =  0 \n",
            "\n",
            "\n",
            " \n"
          ]
        }
      ]
    },
    {
      "cell_type": "code",
      "source": [
        "print(\"가해 운전자 차종과 경상 부상자여부 연관 관계\")\n",
        "gmodels::CrossTable(train$경상부상자수, train$가해운전자차종, chisq = T, expected = T, prop.r = F, prop.c = F)"
      ],
      "metadata": {
        "colab": {
          "base_uri": "https://localhost:8080/"
        },
        "id": "ELJ31FhhCv87",
        "outputId": "4678c905-f9fe-4538-ea21-ec5eefbce013"
      },
      "execution_count": 42,
      "outputs": [
        {
          "output_type": "stream",
          "name": "stdout",
          "text": [
            "[1] \"가해 운전자 차종과 경상 부상자여부 연관 관계\"\n"
          ]
        },
        {
          "output_type": "stream",
          "name": "stderr",
          "text": [
            "Warning message in chisq.test(t, correct = FALSE, ...):\n",
            "“Chi-squared approximation may be incorrect”\n"
          ]
        },
        {
          "output_type": "stream",
          "name": "stdout",
          "text": [
            "\n",
            " \n",
            "   Cell Contents\n",
            "|-------------------------|\n",
            "|                       N |\n",
            "|              Expected N |\n",
            "| Chi-square contribution |\n",
            "|         N / Table Total |\n",
            "|-------------------------|\n",
            "\n",
            " \n",
            "Total Observations in Table:  37128 \n",
            "\n",
            " \n",
            "             | train$가해운전자차종 \n",
            "train$경상부상자수 | 개인형이동수단(PM) |           건설기계 |           기타불명 |             농기계 |  사륜오토바이(ATV) |               승용 |               승합 |             원동기 |               이륜 |             자전거 |               특수 |               화물 |   Row Total | \n",
            "-------------|-------------|-------------|-------------|-------------|-------------|-------------|-------------|-------------|-------------|-------------|-------------|-------------|-------------|\n",
            "           0 |          40 |          91 |           6 |           0 |           2 |        4471 |         270 |          92 |         648 |         263 |          21 |         860 |        6764 | \n",
            "             |      26.963 |      76.880 |       6.194 |       0.547 |       1.275 |    4732.869 |     208.050 |      75.969 |     691.557 |     200.581 |      20.404 |     722.710 |             | \n",
            "             |       6.304 |       2.593 |       0.006 |       0.547 |       0.412 |      14.489 |      18.446 |       3.383 |       2.743 |      19.424 |       0.017 |      26.080 |             | \n",
            "             |       0.001 |       0.002 |       0.000 |       0.000 |       0.000 |       0.120 |       0.007 |       0.002 |       0.017 |       0.007 |       0.001 |       0.023 |             | \n",
            "-------------|-------------|-------------|-------------|-------------|-------------|-------------|-------------|-------------|-------------|-------------|-------------|-------------|-------------|\n",
            "           1 |         108 |         331 |          28 |           3 |           5 |       21508 |         872 |         325 |        3148 |         838 |          91 |        3107 |       30364 | \n",
            "             |     121.037 |     345.120 |      27.806 |       2.453 |       5.725 |   21246.131 |     933.950 |     341.031 |    3104.443 |     900.419 |      91.596 |    3244.290 |             | \n",
            "             |       1.404 |       0.578 |       0.001 |       0.122 |       0.092 |       3.228 |       4.109 |       0.754 |       0.611 |       4.327 |       0.004 |       5.810 |             | \n",
            "             |       0.003 |       0.009 |       0.001 |       0.000 |       0.000 |       0.579 |       0.023 |       0.009 |       0.085 |       0.023 |       0.002 |       0.084 |             | \n",
            "-------------|-------------|-------------|-------------|-------------|-------------|-------------|-------------|-------------|-------------|-------------|-------------|-------------|-------------|\n",
            "Column Total |         148 |         422 |          34 |           3 |           7 |       25979 |        1142 |         417 |        3796 |        1101 |         112 |        3967 |       37128 | \n",
            "-------------|-------------|-------------|-------------|-------------|-------------|-------------|-------------|-------------|-------------|-------------|-------------|-------------|-------------|\n",
            "\n",
            " \n",
            "Statistics for All Table Factors\n",
            "\n",
            "\n",
            "Pearson's Chi-squared test \n",
            "------------------------------------------------------------\n",
            "Chi^2 =  115.4844     d.f. =  11     p =  1.463245e-19 \n",
            "\n",
            "\n",
            " \n"
          ]
        }
      ]
    },
    {
      "cell_type": "code",
      "source": [
        "print(\"가해 운전자 차종과 사망중상자여부 연관 관계\")\n",
        "gmodels::CrossTable(train$사망중상자수, train$가해운전자차종, chisq = T, expected = T, prop.r = F, prop.c = F)"
      ],
      "metadata": {
        "colab": {
          "base_uri": "https://localhost:8080/"
        },
        "id": "xO2x9ObZC2en",
        "outputId": "a66ce584-3f99-40b6-8f1c-043f0c6bf52d"
      },
      "execution_count": 43,
      "outputs": [
        {
          "output_type": "stream",
          "name": "stdout",
          "text": [
            "[1] \"가해 운전자 차종과 사망중상자여부 연관 관계\"\n"
          ]
        },
        {
          "output_type": "stream",
          "name": "stderr",
          "text": [
            "Warning message in chisq.test(t, correct = FALSE, ...):\n",
            "“Chi-squared approximation may be incorrect”\n"
          ]
        },
        {
          "output_type": "stream",
          "name": "stdout",
          "text": [
            "\n",
            " \n",
            "   Cell Contents\n",
            "|-------------------------|\n",
            "|                       N |\n",
            "|              Expected N |\n",
            "| Chi-square contribution |\n",
            "|         N / Table Total |\n",
            "|-------------------------|\n",
            "\n",
            " \n",
            "Total Observations in Table:  37128 \n",
            "\n",
            " \n",
            "             | train$가해운전자차종 \n",
            "train$사망중상자수 | 개인형이동수단(PM) |           건설기계 |           기타불명 |             농기계 |  사륜오토바이(ATV) |               승용 |               승합 |             원동기 |               이륜 |             자전거 |               특수 |               화물 |   Row Total | \n",
            "-------------|-------------|-------------|-------------|-------------|-------------|-------------|-------------|-------------|-------------|-------------|-------------|-------------|-------------|\n",
            "           0 |         105 |         300 |          27 |           3 |           4 |       19906 |         809 |         299 |        2794 |         806 |          83 |        2844 |       27980 | \n",
            "             |     111.534 |     318.023 |      25.623 |       2.261 |       5.275 |   19578.012 |     860.622 |     314.255 |    2860.700 |     829.724 |      84.404 |    2989.567 |             | \n",
            "             |       0.383 |       1.021 |       0.074 |       0.242 |       0.308 |       5.495 |       3.096 |       0.741 |       1.555 |       0.678 |       0.023 |       7.088 |             | \n",
            "             |       0.003 |       0.008 |       0.001 |       0.000 |       0.000 |       0.536 |       0.022 |       0.008 |       0.075 |       0.022 |       0.002 |       0.077 |             | \n",
            "-------------|-------------|-------------|-------------|-------------|-------------|-------------|-------------|-------------|-------------|-------------|-------------|-------------|-------------|\n",
            "           1 |          43 |         122 |           7 |           0 |           3 |        6073 |         333 |         118 |        1002 |         295 |          29 |        1123 |        9148 | \n",
            "             |      36.466 |     103.977 |       8.377 |       0.739 |       1.725 |    6400.988 |     281.378 |     102.745 |     935.300 |     271.276 |      27.596 |     977.433 |             | \n",
            "             |       1.171 |       3.124 |       0.226 |       0.739 |       0.943 |      16.806 |       9.470 |       2.265 |       4.757 |       2.075 |       0.071 |      21.679 |             | \n",
            "             |       0.001 |       0.003 |       0.000 |       0.000 |       0.000 |       0.164 |       0.009 |       0.003 |       0.027 |       0.008 |       0.001 |       0.030 |             | \n",
            "-------------|-------------|-------------|-------------|-------------|-------------|-------------|-------------|-------------|-------------|-------------|-------------|-------------|-------------|\n",
            "Column Total |         148 |         422 |          34 |           3 |           7 |       25979 |        1142 |         417 |        3796 |        1101 |         112 |        3967 |       37128 | \n",
            "-------------|-------------|-------------|-------------|-------------|-------------|-------------|-------------|-------------|-------------|-------------|-------------|-------------|-------------|\n",
            "\n",
            " \n",
            "Statistics for All Table Factors\n",
            "\n",
            "\n",
            "Pearson's Chi-squared test \n",
            "------------------------------------------------------------\n",
            "Chi^2 =  84.03169     d.f. =  11     p =  2.438602e-13 \n",
            "\n",
            "\n",
            " \n"
          ]
        }
      ]
    },
    {
      "cell_type": "code",
      "source": [
        "print(\"도로형태와 경상 부상자여부 연관 관계\")\n",
        "gmodels::CrossTable(train$경상부상자수, train$도로형태, chisq = T, expected = T, prop.r = F, prop.c = F)"
      ],
      "metadata": {
        "colab": {
          "base_uri": "https://localhost:8080/"
        },
        "id": "BFaKLg9JC5sH",
        "outputId": "2b6d197d-0e8f-4c10-c495-86b1cacf01b0"
      },
      "execution_count": 44,
      "outputs": [
        {
          "output_type": "stream",
          "name": "stdout",
          "text": [
            "[1] \"도로형태와 경상 부상자여부 연관 관계\"\n"
          ]
        },
        {
          "output_type": "stream",
          "name": "stderr",
          "text": [
            "Warning message in chisq.test(t, correct = FALSE, ...):\n",
            "“Chi-squared approximation may be incorrect”\n"
          ]
        },
        {
          "output_type": "stream",
          "name": "stdout",
          "text": [
            "\n",
            " \n",
            "   Cell Contents\n",
            "|-------------------------|\n",
            "|                       N |\n",
            "|              Expected N |\n",
            "| Chi-square contribution |\n",
            "|         N / Table Total |\n",
            "|-------------------------|\n",
            "\n",
            " \n",
            "Total Observations in Table:  37128 \n",
            "\n",
            " \n",
            "             | train$도로형태 \n",
            "train$경상부상자수 |       교차로 - 교차로부근 |         교차로 - 교차로안 | 교차로 - 교차로횡단보도내 |               기타 - 기타 |       단일로 - 고가도로위 |             단일로 - 교량 |             단일로 - 기타 | 단일로 - 지하차도(도로)내 |             단일로 - 터널 |           미분류 - 미분류 |           주차장 - 주차장 |       Row Total | \n",
            "-------------|-----------------|-----------------|-----------------|-----------------|-----------------|-----------------|-----------------|-----------------|-----------------|-----------------|-----------------|-----------------|\n",
            "           0 |             846 |            1735 |             520 |             344 |               6 |              26 |            3206 |              50 |               5 |               0 |              26 |            6764 | \n",
            "             |         996.163 |        1750.937 |         248.130 |         322.642 |          23.137 |          38.987 |        3281.436 |          51.921 |          10.384 |           1.093 |          39.169 |                 | \n",
            "             |          22.636 |           0.145 |         297.882 |           1.414 |          12.693 |           4.326 |           1.734 |           0.071 |           2.792 |           1.093 |           4.427 |                 | \n",
            "             |           0.023 |           0.047 |           0.014 |           0.009 |           0.000 |           0.001 |           0.086 |           0.001 |           0.000 |           0.000 |           0.001 |                 | \n",
            "-------------|-----------------|-----------------|-----------------|-----------------|-----------------|-----------------|-----------------|-----------------|-----------------|-----------------|-----------------|-----------------|\n",
            "           1 |            4622 |            7876 |             842 |            1427 |             121 |             188 |           14806 |             235 |              52 |               6 |             189 |           30364 | \n",
            "             |        4471.837 |        7860.063 |        1113.870 |        1448.358 |         103.863 |         175.013 |       14730.564 |         233.079 |          46.616 |           4.907 |         175.831 |                 | \n",
            "             |           5.042 |           0.032 |          66.357 |           0.315 |           2.828 |           0.964 |           0.386 |           0.016 |           0.622 |           0.243 |           0.986 |                 | \n",
            "             |           0.124 |           0.212 |           0.023 |           0.038 |           0.003 |           0.005 |           0.399 |           0.006 |           0.001 |           0.000 |           0.005 |                 | \n",
            "-------------|-----------------|-----------------|-----------------|-----------------|-----------------|-----------------|-----------------|-----------------|-----------------|-----------------|-----------------|-----------------|\n",
            "Column Total |            5468 |            9611 |            1362 |            1771 |             127 |             214 |           18012 |             285 |              57 |               6 |             215 |           37128 | \n",
            "-------------|-----------------|-----------------|-----------------|-----------------|-----------------|-----------------|-----------------|-----------------|-----------------|-----------------|-----------------|-----------------|\n",
            "\n",
            " \n",
            "Statistics for All Table Factors\n",
            "\n",
            "\n",
            "Pearson's Chi-squared test \n",
            "------------------------------------------------------------\n",
            "Chi^2 =  427.0048     d.f. =  10     p =  1.669817e-85 \n",
            "\n",
            "\n",
            " \n"
          ]
        }
      ]
    },
    {
      "cell_type": "code",
      "source": [
        "print(\"도로형태와 사망 중상자여부 연관 관계\")\n",
        "gmodels::CrossTable(train$사망중상자수, train$도로형태, chisq = T, expected = T, prop.r = F, prop.c = F)"
      ],
      "metadata": {
        "colab": {
          "base_uri": "https://localhost:8080/"
        },
        "id": "2VqMTtsKDFtx",
        "outputId": "3a1789d9-ee65-4bf1-c523-15a462722c07"
      },
      "execution_count": 45,
      "outputs": [
        {
          "output_type": "stream",
          "name": "stdout",
          "text": [
            "[1] \"도로형태와 사망 중상자여부 연관 관계\"\n"
          ]
        },
        {
          "output_type": "stream",
          "name": "stderr",
          "text": [
            "Warning message in chisq.test(t, correct = FALSE, ...):\n",
            "“Chi-squared approximation may be incorrect”\n"
          ]
        },
        {
          "output_type": "stream",
          "name": "stdout",
          "text": [
            "\n",
            " \n",
            "   Cell Contents\n",
            "|-------------------------|\n",
            "|                       N |\n",
            "|              Expected N |\n",
            "| Chi-square contribution |\n",
            "|         N / Table Total |\n",
            "|-------------------------|\n",
            "\n",
            " \n",
            "Total Observations in Table:  37128 \n",
            "\n",
            " \n",
            "             | train$도로형태 \n",
            "train$사망중상자수 |       교차로 - 교차로부근 |         교차로 - 교차로안 | 교차로 - 교차로횡단보도내 |               기타 - 기타 |       단일로 - 고가도로위 |             단일로 - 교량 |             단일로 - 기타 | 단일로 - 지하차도(도로)내 |             단일로 - 터널 |           미분류 - 미분류 |           주차장 - 주차장 |       Row Total | \n",
            "-------------|-----------------|-----------------|-----------------|-----------------|-----------------|-----------------|-----------------|-----------------|-----------------|-----------------|-----------------|-----------------|\n",
            "           0 |            4266 |            6995 |             797 |            1378 |             107 |             177 |           13805 |             221 |              41 |               6 |             187 |           27980 | \n",
            "             |        4120.735 |        7242.937 |        1026.416 |        1334.642 |          95.708 |         161.272 |       13574.008 |         214.779 |          42.956 |           4.522 |         162.026 |                 | \n",
            "             |           5.121 |           8.487 |          51.277 |           1.409 |           1.332 |           1.534 |           3.931 |           0.180 |           0.089 |           0.483 |           3.849 |                 | \n",
            "             |           0.115 |           0.188 |           0.021 |           0.037 |           0.003 |           0.005 |           0.372 |           0.006 |           0.001 |           0.000 |           0.005 |                 | \n",
            "-------------|-----------------|-----------------|-----------------|-----------------|-----------------|-----------------|-----------------|-----------------|-----------------|-----------------|-----------------|-----------------|\n",
            "           1 |            1202 |            2616 |             565 |             393 |              20 |              37 |            4207 |              64 |              16 |               0 |              28 |            9148 | \n",
            "             |        1347.265 |        2368.063 |         335.584 |         436.358 |          31.292 |          52.728 |        4437.992 |          70.221 |          14.044 |           1.478 |          52.974 |                 | \n",
            "             |          15.663 |          25.959 |         156.835 |           4.308 |           4.075 |           4.691 |          12.023 |           0.551 |           0.272 |           1.478 |          11.774 |                 | \n",
            "             |           0.032 |           0.070 |           0.015 |           0.011 |           0.001 |           0.001 |           0.113 |           0.002 |           0.000 |           0.000 |           0.001 |                 | \n",
            "-------------|-----------------|-----------------|-----------------|-----------------|-----------------|-----------------|-----------------|-----------------|-----------------|-----------------|-----------------|-----------------|\n",
            "Column Total |            5468 |            9611 |            1362 |            1771 |             127 |             214 |           18012 |             285 |              57 |               6 |             215 |           37128 | \n",
            "-------------|-----------------|-----------------|-----------------|-----------------|-----------------|-----------------|-----------------|-----------------|-----------------|-----------------|-----------------|-----------------|\n",
            "\n",
            " \n",
            "Statistics for All Table Factors\n",
            "\n",
            "\n",
            "Pearson's Chi-squared test \n",
            "------------------------------------------------------------\n",
            "Chi^2 =  315.3227     d.f. =  10     p =  8.91898e-62 \n",
            "\n",
            "\n",
            " \n"
          ]
        }
      ]
    },
    {
      "cell_type": "code",
      "source": [
        "print(\"사망중상자여부와 피해운전자연령의 연관 관계\")\n",
        "gmodels::CrossTable(train$사망중상자수, train$피해운전자연령, chisq = T, expected = T, prop.r = F, prop.c = F)"
      ],
      "metadata": {
        "colab": {
          "base_uri": "https://localhost:8080/"
        },
        "id": "18EcOh0UWryo",
        "outputId": "68fcc226-8f30-4c62-fa2f-e4e55ec8fefe"
      },
      "execution_count": 46,
      "outputs": [
        {
          "output_type": "stream",
          "name": "stdout",
          "text": [
            "[1] \"사망중상자수 피해운전자연령의 연관 관계\"\n",
            "\n",
            " \n",
            "   Cell Contents\n",
            "|-------------------------|\n",
            "|                       N |\n",
            "|              Expected N |\n",
            "| Chi-square contribution |\n",
            "|         N / Table Total |\n",
            "|-------------------------|\n",
            "\n",
            " \n",
            "Total Observations in Table:  37128 \n",
            "\n",
            " \n",
            "             | train$피해운전자연령 \n",
            "train$사망중상자수 |        20 |        30 |        40 |        50 |        60 |        70 | Row Total | \n",
            "-------------|-----------|-----------|-----------|-----------|-----------|-----------|-----------|\n",
            "           0 |      5277 |      5412 |      5321 |      5562 |      3747 |      2661 |     27980 | \n",
            "             |  4875.098 |  4974.574 |  5114.745 |  5688.995 |  4074.765 |  3251.823 |           | \n",
            "             |    33.133 |    38.464 |     8.317 |     2.835 |    26.365 |   107.347 |           | \n",
            "             |     0.142 |     0.146 |     0.143 |     0.150 |     0.101 |     0.072 |           | \n",
            "-------------|-----------|-----------|-----------|-----------|-----------|-----------|-----------|\n",
            "           1 |      1192 |      1189 |      1466 |      1987 |      1660 |      1654 |      9148 | \n",
            "             |  1593.902 |  1626.426 |  1672.255 |  1860.005 |  1332.235 |  1063.177 |           | \n",
            "             |   101.340 |   117.645 |    25.439 |     8.671 |    80.639 |   328.330 |           | \n",
            "             |     0.032 |     0.032 |     0.039 |     0.054 |     0.045 |     0.045 |           | \n",
            "-------------|-----------|-----------|-----------|-----------|-----------|-----------|-----------|\n",
            "Column Total |      6469 |      6601 |      6787 |      7549 |      5407 |      4315 |     37128 | \n",
            "-------------|-----------|-----------|-----------|-----------|-----------|-----------|-----------|\n",
            "\n",
            " \n",
            "Statistics for All Table Factors\n",
            "\n",
            "\n",
            "Pearson's Chi-squared test \n",
            "------------------------------------------------------------\n",
            "Chi^2 =  878.5237     d.f. =  5     p =  1.182837e-187 \n",
            "\n",
            "\n",
            " \n"
          ]
        }
      ]
    },
    {
      "cell_type": "code",
      "source": [
        "print(\"경상부상자여부와 피해운전자연령의 연관 관계\")\n",
        "gmodels::CrossTable(train$경상부상자수, train$피해운전자연령, chisq = T, expected = T, prop.r = F, prop.c = F)"
      ],
      "metadata": {
        "colab": {
          "base_uri": "https://localhost:8080/"
        },
        "id": "VkCQwjyZW72W",
        "outputId": "690ae3dd-f43a-4f6f-ae68-78041eec7f99"
      },
      "execution_count": 47,
      "outputs": [
        {
          "output_type": "stream",
          "name": "stdout",
          "text": [
            "[1] \"경상부상자여부와 피해운전자연령의 연관 관계\"\n",
            "\n",
            " \n",
            "   Cell Contents\n",
            "|-------------------------|\n",
            "|                       N |\n",
            "|              Expected N |\n",
            "| Chi-square contribution |\n",
            "|         N / Table Total |\n",
            "|-------------------------|\n",
            "\n",
            " \n",
            "Total Observations in Table:  37128 \n",
            "\n",
            " \n",
            "             | train$피해운전자연령 \n",
            "train$경상부상자수 |        20 |        30 |        40 |        50 |        60 |        70 | Row Total | \n",
            "-------------|-----------|-----------|-----------|-----------|-----------|-----------|-----------|\n",
            "           0 |       867 |       820 |       986 |      1414 |      1227 |      1450 |      6764 | \n",
            "             |  1178.526 |  1202.574 |  1236.459 |  1375.281 |   985.050 |   786.109 |           | \n",
            "             |    82.347 |   121.708 |    50.734 |     1.090 |    59.428 |   560.674 |           | \n",
            "             |     0.023 |     0.022 |     0.027 |     0.038 |     0.033 |     0.039 |           | \n",
            "-------------|-----------|-----------|-----------|-----------|-----------|-----------|-----------|\n",
            "           1 |      5602 |      5781 |      5801 |      6135 |      4180 |      2865 |     30364 | \n",
            "             |  5290.474 |  5398.426 |  5550.541 |  6173.719 |  4421.950 |  3528.891 |           | \n",
            "             |    18.344 |    27.112 |    11.302 |     0.243 |    13.238 |   124.898 |           | \n",
            "             |     0.151 |     0.156 |     0.156 |     0.165 |     0.113 |     0.077 |           | \n",
            "-------------|-----------|-----------|-----------|-----------|-----------|-----------|-----------|\n",
            "Column Total |      6469 |      6601 |      6787 |      7549 |      5407 |      4315 |     37128 | \n",
            "-------------|-----------|-----------|-----------|-----------|-----------|-----------|-----------|\n",
            "\n",
            " \n",
            "Statistics for All Table Factors\n",
            "\n",
            "\n",
            "Pearson's Chi-squared test \n",
            "------------------------------------------------------------\n",
            "Chi^2 =  1071.118     d.f. =  5     p =  2.401422e-229 \n",
            "\n",
            "\n",
            " \n"
          ]
        }
      ]
    },
    {
      "cell_type": "code",
      "source": [],
      "metadata": {
        "id": "VUh5sF-oDVsD"
      },
      "execution_count": null,
      "outputs": []
    }
  ]
}